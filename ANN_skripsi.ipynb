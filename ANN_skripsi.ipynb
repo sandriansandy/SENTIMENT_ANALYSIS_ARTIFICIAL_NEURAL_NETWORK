{
  "cells": [
    {
      "cell_type": "markdown",
      "metadata": {
        "id": "-0U4VLxtoAqi"
      },
      "source": [
        "<a href=\"https://colab.research.google.com/github/https-deeplearning-ai/tensorflow-1-public/blob/master/C3/W3/ungraded_labs/C3_W3_Lab_4_imdb_reviews_with_GRU_LSTM_Conv1D.ipynb\" target=\"_parent\"><img src=\"https://colab.research.google.com/assets/colab-badge.svg\" alt=\"Open In Colab\"/></a>"
      ]
    },
    {
      "cell_type": "markdown",
      "metadata": {
        "id": "-6PhPXVCa_1i"
      },
      "source": [
        "## Imports\n",
        "\n",
        "You will first import common libraries that will be used throughout the exercise."
      ]
    },
    {
      "cell_type": "code",
      "execution_count": 1,
      "metadata": {},
      "outputs": [],
      "source": [
        "#pip install import-ipynb"
      ]
    },
    {
      "cell_type": "code",
      "execution_count": 2,
      "metadata": {
        "id": "WA0Fi9p9ah5_"
      },
      "outputs": [
        {
          "name": "stderr",
          "output_type": "stream",
          "text": [
            "c:\\Users\\ihsan\\miniconda3\\envs\\skripsi\\lib\\site-packages\\scipy\\__init__.py:146: UserWarning: A NumPy version >=1.16.5 and <1.23.0 is required for this version of SciPy (detected version 1.23.3\n",
            "  warnings.warn(f\"A NumPy version >={np_minversion} and <{np_maxversion}\"\n"
          ]
        }
      ],
      "source": [
        "# import tensorflow_datasets as tfds\n",
        "import tensorflow as tf\n",
        "import numpy as np\n",
        "\n",
        "from tensorflow.keras.preprocessing.text import Tokenizer\n",
        "from tensorflow.keras.preprocessing.sequence import pad_sequences\n",
        "import import_ipynb\n",
        "import pandas as pd\n",
        "import seaborn as sns\n",
        "from sklearn import metrics\n"
      ]
    },
    {
      "cell_type": "code",
      "execution_count": 3,
      "metadata": {},
      "outputs": [
        {
          "name": "stdout",
          "output_type": "stream",
          "text": [
            "importing Jupyter notebook from preprocessing.ipynb\n"
          ]
        }
      ],
      "source": [
        "import preprocessing"
      ]
    },
    {
      "cell_type": "code",
      "execution_count": 4,
      "metadata": {},
      "outputs": [],
      "source": [
        "review_data = pd.read_excel('data_scrapping_gabungan.xlsx')\n",
        "sentences = []\n",
        "labels = []\n",
        "for review in review_data['NO OUTLIER & STOPWORD']:\n",
        "    sentences.append(review)\n",
        "\n",
        "for label in review_data['Sentimen (Positif 0 - Negatif 1)']:\n",
        "    labels.append(label)\n"
      ]
    },
    {
      "cell_type": "code",
      "execution_count": 5,
      "metadata": {
        "id": "6xruy47LbCqt"
      },
      "outputs": [],
      "source": [
        "# Initialize sentences and labels lists\n",
        "'''\n",
        "70 : 20 : 10\n",
        "train : validation : test = 557 : 159 : 80\n",
        "==========================================\n",
        "80 : 10 : 10\n",
        "train : validation : test = 636 : 80 : 80\n",
        "'''\n",
        "\n",
        "# 70:20:10\n",
        "training_sentences = sentences[80:637]\n",
        "training_labels = labels[80:637]\n",
        "\n",
        "testing_sentences = sentences[637:]\n",
        "testing_labels = labels[637:]\n",
        "\n",
        "# 80:10:10\n",
        "# training_sentences = sentences[80:716]\n",
        "# training_labels = labels[80:716]\n",
        "\n",
        "# testing_sentences = sentences[716:]\n",
        "# testing_labels = labels[716:]\n",
        "\n",
        "# 90:5:5\n",
        "# training_sentences = sentences[40:716]\n",
        "# training_labels = labels[40:716]\n",
        "\n",
        "# testing_sentences = sentences[716:]\n",
        "# testing_labels = labels[716:]"
      ]
    },
    {
      "cell_type": "code",
      "execution_count": 6,
      "metadata": {},
      "outputs": [],
      "source": [
        "training_labels_final = np.array(training_labels)\n",
        "testing_labels_final = np.array(testing_labels)"
      ]
    },
    {
      "cell_type": "code",
      "execution_count": 7,
      "metadata": {
        "id": "7n15yyMdmoH1"
      },
      "outputs": [],
      "source": [
        "# Parameters\n",
        "vocab_size = 10000\n",
        "max_length = 75\n",
        "trunc_type='post'\n",
        "oov_tok = \"<OOV>\"\n",
        "\n",
        "# Initialize the Tokenizer class\n",
        "tokenizer = Tokenizer(num_words = vocab_size, oov_token=oov_tok)\n",
        "\n",
        "# Generate the word index dictionary for the training sentences\n",
        "tokenizer.fit_on_texts(training_sentences)\n",
        "word_index = tokenizer.word_index\n",
        "\n",
        "# Generate and pad the training sequences\n",
        "sequences = tokenizer.texts_to_sequences(training_sentences)\n",
        "padded = pad_sequences(sequences,maxlen=max_length, truncating=trunc_type)\n",
        "\n",
        "# Generate and pad the test sequences\n",
        "testing_sequences = tokenizer.texts_to_sequences(testing_sentences)\n",
        "testing_padded = pad_sequences(testing_sequences,maxlen=max_length)"
      ]
    },
    {
      "cell_type": "markdown",
      "metadata": {
        "id": "cs4GDKAFbJdq"
      },
      "source": [
        "## Plot Utility\n",
        "\n",
        "Before you define the models, you will define the function below so you can easily visualize the accuracy and loss history after training."
      ]
    },
    {
      "cell_type": "code",
      "execution_count": 8,
      "metadata": {
        "id": "nHGYuU4jPYaj"
      },
      "outputs": [],
      "source": [
        "import matplotlib.pyplot as plt\n",
        "\n",
        "# Plot Utility\n",
        "def plot_graphs(history, string):\n",
        "  plt.plot(history.history[string])\n",
        "  plt.plot(history.history['val_'+string])\n",
        "  plt.xlabel(\"Epochs\")\n",
        "  plt.ylabel(string)\n",
        "  plt.legend([string, 'val_'+string])\n",
        "  plt.show()"
      ]
    },
    {
      "cell_type": "markdown",
      "metadata": {
        "id": "gRlKm7rUkbfz"
      },
      "source": [
        "## Model 0: ANN"
      ]
    },
    {
      "cell_type": "code",
      "execution_count": 9,
      "metadata": {
        "id": "ZDy6bkq-kaQB"
      },
      "outputs": [
        {
          "name": "stdout",
          "output_type": "stream",
          "text": [
            "Model: \"sequential\"\n",
            "_________________________________________________________________\n",
            " Layer (type)                Output Shape              Param #   \n",
            "=================================================================\n",
            " embedding (Embedding)       (None, 75, 32)            320000    \n",
            "                                                                 \n",
            " flatten (Flatten)           (None, 2400)              0         \n",
            "                                                                 \n",
            " dense (Dense)               (None, 16)                38416     \n",
            "                                                                 \n",
            " dense_1 (Dense)             (None, 1)                 17        \n",
            "                                                                 \n",
            "=================================================================\n",
            "Total params: 358,433\n",
            "Trainable params: 358,433\n",
            "Non-trainable params: 0\n",
            "_________________________________________________________________\n"
          ]
        }
      ],
      "source": [
        "# Parameters\n",
        "embedding_dim = 32\n",
        "dense_dim = 16\n",
        "\n",
        "model_ann = tf.keras.Sequential([\n",
        "    tf.keras.layers.Embedding(vocab_size, embedding_dim, input_length=max_length),\n",
        "    tf.keras.layers.Flatten(),\n",
        "    tf.keras.layers.Dense(dense_dim, activation='relu'),\n",
        "    tf.keras.layers.Dense(1, activation='sigmoid')\n",
        "])\n",
        "\n",
        "# Set the training parameters\n",
        "model_ann.compile(loss='binary_crossentropy',optimizer='adam',metrics=['accuracy'])\n",
        "\n",
        "# Print the model summary\n",
        "model_ann.summary()"
      ]
    },
    {
      "cell_type": "code",
      "execution_count": 10,
      "metadata": {
        "id": "ZPejGQhDnKPg"
      },
      "outputs": [
        {
          "name": "stdout",
          "output_type": "stream",
          "text": [
            "Epoch 1/200\n",
            "5/5 [==============================] - 3s 109ms/step - loss: 0.6897 - accuracy: 0.5296 - val_loss: 0.6928 - val_accuracy: 0.4717\n",
            "Epoch 2/200\n",
            "5/5 [==============================] - 0s 24ms/step - loss: 0.6781 - accuracy: 0.6014 - val_loss: 0.6702 - val_accuracy: 0.6226\n",
            "Epoch 3/200\n",
            "5/5 [==============================] - 0s 24ms/step - loss: 0.6653 - accuracy: 0.6284 - val_loss: 0.6786 - val_accuracy: 0.5346\n",
            "Epoch 4/200\n",
            "5/5 [==============================] - 0s 23ms/step - loss: 0.6506 - accuracy: 0.6409 - val_loss: 0.6442 - val_accuracy: 0.6541\n",
            "Epoch 5/200\n",
            "5/5 [==============================] - 0s 25ms/step - loss: 0.6320 - accuracy: 0.6894 - val_loss: 0.6289 - val_accuracy: 0.6604\n",
            "Epoch 6/200\n",
            "5/5 [==============================] - 0s 25ms/step - loss: 0.6112 - accuracy: 0.6984 - val_loss: 0.6095 - val_accuracy: 0.6667\n",
            "Epoch 7/200\n",
            "5/5 [==============================] - 0s 27ms/step - loss: 0.5867 - accuracy: 0.7056 - val_loss: 0.5911 - val_accuracy: 0.6918\n",
            "Epoch 8/200\n",
            "5/5 [==============================] - 0s 25ms/step - loss: 0.5582 - accuracy: 0.7612 - val_loss: 0.5542 - val_accuracy: 0.7484\n",
            "Epoch 9/200\n",
            "5/5 [==============================] - 0s 28ms/step - loss: 0.5262 - accuracy: 0.7756 - val_loss: 0.5418 - val_accuracy: 0.7484\n",
            "Epoch 10/200\n",
            "5/5 [==============================] - 0s 24ms/step - loss: 0.4933 - accuracy: 0.8007 - val_loss: 0.5122 - val_accuracy: 0.7673\n",
            "Epoch 11/200\n",
            "5/5 [==============================] - 0s 26ms/step - loss: 0.4578 - accuracy: 0.8061 - val_loss: 0.4857 - val_accuracy: 0.7673\n",
            "Epoch 12/200\n",
            "5/5 [==============================] - 0s 25ms/step - loss: 0.4162 - accuracy: 0.8384 - val_loss: 0.4629 - val_accuracy: 0.7925\n",
            "Epoch 13/200\n",
            "5/5 [==============================] - 0s 26ms/step - loss: 0.3759 - accuracy: 0.8618 - val_loss: 0.4393 - val_accuracy: 0.8113\n",
            "Epoch 14/200\n",
            "5/5 [==============================] - 0s 26ms/step - loss: 0.3369 - accuracy: 0.8959 - val_loss: 0.4175 - val_accuracy: 0.8365\n",
            "Epoch 15/200\n",
            "5/5 [==============================] - 0s 24ms/step - loss: 0.3018 - accuracy: 0.9156 - val_loss: 0.4081 - val_accuracy: 0.8428\n",
            "Epoch 16/200\n",
            "5/5 [==============================] - 0s 25ms/step - loss: 0.2769 - accuracy: 0.9156 - val_loss: 0.3886 - val_accuracy: 0.8428\n",
            "Epoch 17/200\n",
            "5/5 [==============================] - 0s 25ms/step - loss: 0.2447 - accuracy: 0.9264 - val_loss: 0.3704 - val_accuracy: 0.8491\n",
            "Epoch 18/200\n",
            "5/5 [==============================] - 0s 25ms/step - loss: 0.2253 - accuracy: 0.9390 - val_loss: 0.3733 - val_accuracy: 0.8553\n",
            "Epoch 19/200\n",
            "5/5 [==============================] - 0s 24ms/step - loss: 0.2009 - accuracy: 0.9443 - val_loss: 0.3507 - val_accuracy: 0.8553\n",
            "Epoch 20/200\n",
            "5/5 [==============================] - 0s 28ms/step - loss: 0.1817 - accuracy: 0.9479 - val_loss: 0.3685 - val_accuracy: 0.8553\n",
            "Epoch 21/200\n",
            "5/5 [==============================] - 0s 24ms/step - loss: 0.1651 - accuracy: 0.9533 - val_loss: 0.3498 - val_accuracy: 0.8553\n",
            "Epoch 22/200\n",
            "5/5 [==============================] - 0s 27ms/step - loss: 0.1511 - accuracy: 0.9587 - val_loss: 0.3499 - val_accuracy: 0.8616\n",
            "Epoch 23/200\n",
            "5/5 [==============================] - 0s 24ms/step - loss: 0.1385 - accuracy: 0.9587 - val_loss: 0.3618 - val_accuracy: 0.8616\n",
            "Epoch 24/200\n",
            "5/5 [==============================] - 0s 24ms/step - loss: 0.1232 - accuracy: 0.9605 - val_loss: 0.3366 - val_accuracy: 0.8679\n",
            "Epoch 25/200\n",
            "5/5 [==============================] - 0s 27ms/step - loss: 0.1154 - accuracy: 0.9677 - val_loss: 0.3575 - val_accuracy: 0.8553\n",
            "Epoch 26/200\n",
            "5/5 [==============================] - 0s 24ms/step - loss: 0.1062 - accuracy: 0.9695 - val_loss: 0.3624 - val_accuracy: 0.8616\n",
            "Epoch 27/200\n",
            "5/5 [==============================] - 0s 26ms/step - loss: 0.0958 - accuracy: 0.9767 - val_loss: 0.3363 - val_accuracy: 0.8679\n",
            "Epoch 28/200\n",
            "5/5 [==============================] - 0s 37ms/step - loss: 0.0900 - accuracy: 0.9785 - val_loss: 0.3489 - val_accuracy: 0.8616\n",
            "Epoch 29/200\n",
            "5/5 [==============================] - 0s 26ms/step - loss: 0.0821 - accuracy: 0.9785 - val_loss: 0.3650 - val_accuracy: 0.8616\n",
            "Epoch 30/200\n",
            "5/5 [==============================] - 0s 24ms/step - loss: 0.0753 - accuracy: 0.9820 - val_loss: 0.3501 - val_accuracy: 0.8553\n",
            "Epoch 31/200\n",
            "5/5 [==============================] - 0s 26ms/step - loss: 0.0709 - accuracy: 0.9856 - val_loss: 0.3539 - val_accuracy: 0.8553\n",
            "Epoch 32/200\n",
            "5/5 [==============================] - 0s 27ms/step - loss: 0.0644 - accuracy: 0.9856 - val_loss: 0.3837 - val_accuracy: 0.8553\n",
            "Epoch 33/200\n",
            "5/5 [==============================] - 0s 32ms/step - loss: 0.0618 - accuracy: 0.9803 - val_loss: 0.3712 - val_accuracy: 0.8616\n",
            "Epoch 34/200\n",
            "5/5 [==============================] - 0s 27ms/step - loss: 0.0561 - accuracy: 0.9892 - val_loss: 0.3565 - val_accuracy: 0.8491\n",
            "Epoch 35/200\n",
            "5/5 [==============================] - 0s 27ms/step - loss: 0.0524 - accuracy: 0.9910 - val_loss: 0.3772 - val_accuracy: 0.8553\n",
            "Epoch 36/200\n",
            "5/5 [==============================] - 0s 32ms/step - loss: 0.0487 - accuracy: 0.9910 - val_loss: 0.3731 - val_accuracy: 0.8491\n",
            "Epoch 37/200\n",
            "5/5 [==============================] - 0s 28ms/step - loss: 0.0447 - accuracy: 0.9928 - val_loss: 0.3830 - val_accuracy: 0.8616\n",
            "Epoch 38/200\n",
            "5/5 [==============================] - 0s 24ms/step - loss: 0.0417 - accuracy: 0.9946 - val_loss: 0.3881 - val_accuracy: 0.8491\n",
            "Epoch 39/200\n",
            "5/5 [==============================] - 0s 25ms/step - loss: 0.0391 - accuracy: 0.9946 - val_loss: 0.3768 - val_accuracy: 0.8553\n",
            "Epoch 40/200\n",
            "5/5 [==============================] - 0s 26ms/step - loss: 0.0371 - accuracy: 0.9964 - val_loss: 0.3910 - val_accuracy: 0.8491\n",
            "Epoch 41/200\n",
            "5/5 [==============================] - 0s 28ms/step - loss: 0.0344 - accuracy: 0.9964 - val_loss: 0.4081 - val_accuracy: 0.8428\n",
            "Epoch 42/200\n",
            "5/5 [==============================] - 0s 28ms/step - loss: 0.0327 - accuracy: 0.9982 - val_loss: 0.4043 - val_accuracy: 0.8491\n",
            "Epoch 43/200\n",
            "5/5 [==============================] - 0s 28ms/step - loss: 0.0305 - accuracy: 0.9964 - val_loss: 0.4045 - val_accuracy: 0.8491\n",
            "Epoch 44/200\n",
            "5/5 [==============================] - 0s 26ms/step - loss: 0.0286 - accuracy: 0.9964 - val_loss: 0.4011 - val_accuracy: 0.8553\n",
            "Epoch 45/200\n",
            "5/5 [==============================] - 0s 29ms/step - loss: 0.0270 - accuracy: 0.9964 - val_loss: 0.4116 - val_accuracy: 0.8553\n",
            "Epoch 46/200\n",
            "5/5 [==============================] - 0s 25ms/step - loss: 0.0264 - accuracy: 0.9982 - val_loss: 0.4261 - val_accuracy: 0.8428\n",
            "Epoch 47/200\n",
            "5/5 [==============================] - 0s 26ms/step - loss: 0.0249 - accuracy: 0.9964 - val_loss: 0.4121 - val_accuracy: 0.8553\n",
            "Epoch 48/200\n",
            "5/5 [==============================] - 0s 26ms/step - loss: 0.0231 - accuracy: 0.9964 - val_loss: 0.4135 - val_accuracy: 0.8553\n",
            "Epoch 49/200\n",
            "5/5 [==============================] - 0s 28ms/step - loss: 0.0222 - accuracy: 0.9964 - val_loss: 0.4078 - val_accuracy: 0.8616\n",
            "Epoch 50/200\n",
            "5/5 [==============================] - 0s 27ms/step - loss: 0.0210 - accuracy: 0.9964 - val_loss: 0.4327 - val_accuracy: 0.8553\n",
            "Epoch 51/200\n",
            "5/5 [==============================] - 0s 26ms/step - loss: 0.0203 - accuracy: 0.9982 - val_loss: 0.4451 - val_accuracy: 0.8428\n",
            "Epoch 52/200\n",
            "5/5 [==============================] - 0s 26ms/step - loss: 0.0193 - accuracy: 0.9982 - val_loss: 0.4297 - val_accuracy: 0.8616\n",
            "Epoch 53/200\n",
            "5/5 [==============================] - 0s 28ms/step - loss: 0.0180 - accuracy: 0.9982 - val_loss: 0.4285 - val_accuracy: 0.8553\n",
            "Epoch 54/200\n",
            "5/5 [==============================] - 0s 25ms/step - loss: 0.0173 - accuracy: 0.9964 - val_loss: 0.4283 - val_accuracy: 0.8616\n",
            "Epoch 55/200\n",
            "5/5 [==============================] - 0s 25ms/step - loss: 0.0165 - accuracy: 0.9982 - val_loss: 0.4405 - val_accuracy: 0.8616\n",
            "Epoch 56/200\n",
            "5/5 [==============================] - 0s 26ms/step - loss: 0.0158 - accuracy: 0.9982 - val_loss: 0.4515 - val_accuracy: 0.8553\n",
            "Epoch 57/200\n",
            "5/5 [==============================] - 0s 35ms/step - loss: 0.0154 - accuracy: 0.9982 - val_loss: 0.4537 - val_accuracy: 0.8553\n",
            "Epoch 58/200\n",
            "5/5 [==============================] - 0s 25ms/step - loss: 0.0147 - accuracy: 0.9982 - val_loss: 0.4445 - val_accuracy: 0.8616\n",
            "Epoch 59/200\n",
            "5/5 [==============================] - 0s 24ms/step - loss: 0.0142 - accuracy: 0.9982 - val_loss: 0.4446 - val_accuracy: 0.8679\n",
            "Epoch 60/200\n",
            "5/5 [==============================] - 0s 24ms/step - loss: 0.0135 - accuracy: 0.9982 - val_loss: 0.4581 - val_accuracy: 0.8616\n",
            "Epoch 61/200\n",
            "5/5 [==============================] - 0s 23ms/step - loss: 0.0132 - accuracy: 0.9982 - val_loss: 0.4687 - val_accuracy: 0.8491\n",
            "Epoch 62/200\n",
            "5/5 [==============================] - 0s 26ms/step - loss: 0.0131 - accuracy: 0.9982 - val_loss: 0.4597 - val_accuracy: 0.8616\n",
            "Epoch 63/200\n",
            "5/5 [==============================] - 0s 24ms/step - loss: 0.0120 - accuracy: 0.9982 - val_loss: 0.4746 - val_accuracy: 0.8491\n",
            "Epoch 64/200\n",
            "5/5 [==============================] - 0s 24ms/step - loss: 0.0119 - accuracy: 0.9982 - val_loss: 0.4731 - val_accuracy: 0.8491\n",
            "Epoch 65/200\n",
            "5/5 [==============================] - 0s 24ms/step - loss: 0.0113 - accuracy: 0.9982 - val_loss: 0.4687 - val_accuracy: 0.8616\n",
            "Epoch 66/200\n",
            "5/5 [==============================] - 0s 26ms/step - loss: 0.0109 - accuracy: 0.9982 - val_loss: 0.4615 - val_accuracy: 0.8679\n",
            "Epoch 67/200\n",
            "5/5 [==============================] - 0s 24ms/step - loss: 0.0106 - accuracy: 0.9982 - val_loss: 0.4750 - val_accuracy: 0.8616\n",
            "Epoch 68/200\n",
            "5/5 [==============================] - 0s 23ms/step - loss: 0.0102 - accuracy: 0.9982 - val_loss: 0.4778 - val_accuracy: 0.8616\n",
            "Epoch 69/200\n",
            "5/5 [==============================] - 0s 24ms/step - loss: 0.0101 - accuracy: 0.9982 - val_loss: 0.4896 - val_accuracy: 0.8491\n",
            "Epoch 70/200\n",
            "5/5 [==============================] - 0s 22ms/step - loss: 0.0095 - accuracy: 0.9982 - val_loss: 0.4812 - val_accuracy: 0.8616\n",
            "Epoch 71/200\n",
            "5/5 [==============================] - 0s 27ms/step - loss: 0.0094 - accuracy: 0.9982 - val_loss: 0.4713 - val_accuracy: 0.8679\n",
            "Epoch 72/200\n",
            "5/5 [==============================] - 0s 26ms/step - loss: 0.0091 - accuracy: 0.9982 - val_loss: 0.4800 - val_accuracy: 0.8679\n",
            "Epoch 73/200\n",
            "5/5 [==============================] - 0s 24ms/step - loss: 0.0086 - accuracy: 0.9982 - val_loss: 0.4825 - val_accuracy: 0.8679\n",
            "Epoch 74/200\n",
            "5/5 [==============================] - 0s 25ms/step - loss: 0.0084 - accuracy: 0.9982 - val_loss: 0.4970 - val_accuracy: 0.8491\n",
            "Epoch 75/200\n",
            "5/5 [==============================] - 0s 25ms/step - loss: 0.0081 - accuracy: 0.9982 - val_loss: 0.5041 - val_accuracy: 0.8491\n",
            "Epoch 76/200\n",
            "5/5 [==============================] - 0s 25ms/step - loss: 0.0079 - accuracy: 0.9982 - val_loss: 0.4974 - val_accuracy: 0.8491\n",
            "Epoch 77/200\n",
            "5/5 [==============================] - 0s 25ms/step - loss: 0.0076 - accuracy: 0.9982 - val_loss: 0.4985 - val_accuracy: 0.8491\n",
            "Epoch 78/200\n",
            "5/5 [==============================] - 0s 25ms/step - loss: 0.0074 - accuracy: 1.0000 - val_loss: 0.5003 - val_accuracy: 0.8491\n",
            "Epoch 79/200\n",
            "5/5 [==============================] - 0s 25ms/step - loss: 0.0072 - accuracy: 1.0000 - val_loss: 0.4871 - val_accuracy: 0.8679\n",
            "Epoch 80/200\n",
            "5/5 [==============================] - 0s 26ms/step - loss: 0.0074 - accuracy: 1.0000 - val_loss: 0.4935 - val_accuracy: 0.8679\n",
            "Epoch 81/200\n",
            "5/5 [==============================] - 0s 26ms/step - loss: 0.0067 - accuracy: 1.0000 - val_loss: 0.5235 - val_accuracy: 0.8491\n",
            "Epoch 82/200\n",
            "5/5 [==============================] - 0s 24ms/step - loss: 0.0067 - accuracy: 0.9982 - val_loss: 0.5272 - val_accuracy: 0.8491\n",
            "Epoch 83/200\n",
            "5/5 [==============================] - 0s 26ms/step - loss: 0.0065 - accuracy: 1.0000 - val_loss: 0.5199 - val_accuracy: 0.8491\n",
            "Epoch 84/200\n",
            "5/5 [==============================] - 0s 25ms/step - loss: 0.0060 - accuracy: 1.0000 - val_loss: 0.5088 - val_accuracy: 0.8553\n",
            "Epoch 85/200\n",
            "5/5 [==============================] - 0s 25ms/step - loss: 0.0059 - accuracy: 1.0000 - val_loss: 0.5080 - val_accuracy: 0.8616\n",
            "Epoch 86/200\n",
            "5/5 [==============================] - 0s 24ms/step - loss: 0.0058 - accuracy: 1.0000 - val_loss: 0.5039 - val_accuracy: 0.8679\n",
            "Epoch 87/200\n",
            "5/5 [==============================] - 0s 24ms/step - loss: 0.0057 - accuracy: 1.0000 - val_loss: 0.5161 - val_accuracy: 0.8553\n",
            "Epoch 88/200\n",
            "5/5 [==============================] - 0s 40ms/step - loss: 0.0054 - accuracy: 1.0000 - val_loss: 0.5300 - val_accuracy: 0.8491\n",
            "Epoch 89/200\n",
            "5/5 [==============================] - 0s 25ms/step - loss: 0.0053 - accuracy: 1.0000 - val_loss: 0.5271 - val_accuracy: 0.8491\n",
            "Epoch 90/200\n",
            "5/5 [==============================] - 0s 27ms/step - loss: 0.0051 - accuracy: 1.0000 - val_loss: 0.5274 - val_accuracy: 0.8491\n",
            "Epoch 91/200\n",
            "5/5 [==============================] - 0s 43ms/step - loss: 0.0050 - accuracy: 1.0000 - val_loss: 0.5301 - val_accuracy: 0.8491\n",
            "Epoch 92/200\n",
            "5/5 [==============================] - 0s 55ms/step - loss: 0.0048 - accuracy: 1.0000 - val_loss: 0.5398 - val_accuracy: 0.8491\n",
            "Epoch 93/200\n",
            "5/5 [==============================] - 0s 43ms/step - loss: 0.0047 - accuracy: 1.0000 - val_loss: 0.5427 - val_accuracy: 0.8491\n",
            "Epoch 94/200\n",
            "5/5 [==============================] - 0s 55ms/step - loss: 0.0046 - accuracy: 1.0000 - val_loss: 0.5361 - val_accuracy: 0.8491\n",
            "Epoch 95/200\n",
            "5/5 [==============================] - 0s 34ms/step - loss: 0.0046 - accuracy: 1.0000 - val_loss: 0.5315 - val_accuracy: 0.8553\n",
            "Epoch 96/200\n",
            "5/5 [==============================] - 0s 31ms/step - loss: 0.0044 - accuracy: 1.0000 - val_loss: 0.5494 - val_accuracy: 0.8491\n",
            "Epoch 97/200\n",
            "5/5 [==============================] - 0s 34ms/step - loss: 0.0043 - accuracy: 1.0000 - val_loss: 0.5502 - val_accuracy: 0.8491\n",
            "Epoch 98/200\n",
            "5/5 [==============================] - 0s 29ms/step - loss: 0.0041 - accuracy: 1.0000 - val_loss: 0.5348 - val_accuracy: 0.8553\n",
            "Epoch 99/200\n",
            "5/5 [==============================] - 0s 28ms/step - loss: 0.0041 - accuracy: 1.0000 - val_loss: 0.5342 - val_accuracy: 0.8553\n",
            "Epoch 100/200\n",
            "5/5 [==============================] - 0s 26ms/step - loss: 0.0042 - accuracy: 1.0000 - val_loss: 0.5292 - val_accuracy: 0.8679\n",
            "Epoch 101/200\n",
            "5/5 [==============================] - 0s 27ms/step - loss: 0.0040 - accuracy: 1.0000 - val_loss: 0.5456 - val_accuracy: 0.8553\n",
            "Epoch 102/200\n",
            "5/5 [==============================] - 0s 25ms/step - loss: 0.0038 - accuracy: 1.0000 - val_loss: 0.5651 - val_accuracy: 0.8491\n",
            "Epoch 103/200\n",
            "5/5 [==============================] - 0s 25ms/step - loss: 0.0037 - accuracy: 1.0000 - val_loss: 0.5669 - val_accuracy: 0.8491\n",
            "Epoch 104/200\n",
            "5/5 [==============================] - 0s 26ms/step - loss: 0.0034 - accuracy: 1.0000 - val_loss: 0.5522 - val_accuracy: 0.8491\n",
            "Epoch 105/200\n",
            "5/5 [==============================] - 0s 26ms/step - loss: 0.0035 - accuracy: 1.0000 - val_loss: 0.5450 - val_accuracy: 0.8553\n",
            "Epoch 106/200\n",
            "5/5 [==============================] - 0s 27ms/step - loss: 0.0035 - accuracy: 1.0000 - val_loss: 0.5512 - val_accuracy: 0.8553\n",
            "Epoch 107/200\n",
            "5/5 [==============================] - 0s 26ms/step - loss: 0.0032 - accuracy: 1.0000 - val_loss: 0.5704 - val_accuracy: 0.8491\n",
            "Epoch 108/200\n",
            "5/5 [==============================] - 0s 26ms/step - loss: 0.0032 - accuracy: 1.0000 - val_loss: 0.5764 - val_accuracy: 0.8491\n",
            "Epoch 109/200\n",
            "5/5 [==============================] - 0s 26ms/step - loss: 0.0031 - accuracy: 1.0000 - val_loss: 0.5738 - val_accuracy: 0.8491\n",
            "Epoch 110/200\n",
            "5/5 [==============================] - 0s 26ms/step - loss: 0.0030 - accuracy: 1.0000 - val_loss: 0.5665 - val_accuracy: 0.8491\n",
            "Epoch 111/200\n",
            "5/5 [==============================] - 0s 28ms/step - loss: 0.0029 - accuracy: 1.0000 - val_loss: 0.5627 - val_accuracy: 0.8553\n",
            "Epoch 112/200\n",
            "5/5 [==============================] - 0s 26ms/step - loss: 0.0029 - accuracy: 1.0000 - val_loss: 0.5653 - val_accuracy: 0.8553\n",
            "Epoch 113/200\n",
            "5/5 [==============================] - 0s 24ms/step - loss: 0.0028 - accuracy: 1.0000 - val_loss: 0.5816 - val_accuracy: 0.8491\n",
            "Epoch 114/200\n",
            "5/5 [==============================] - 0s 26ms/step - loss: 0.0028 - accuracy: 1.0000 - val_loss: 0.5825 - val_accuracy: 0.8491\n",
            "Epoch 115/200\n",
            "5/5 [==============================] - 0s 29ms/step - loss: 0.0027 - accuracy: 1.0000 - val_loss: 0.5777 - val_accuracy: 0.8491\n",
            "Epoch 116/200\n",
            "5/5 [==============================] - 0s 30ms/step - loss: 0.0026 - accuracy: 1.0000 - val_loss: 0.5752 - val_accuracy: 0.8491\n",
            "Epoch 117/200\n",
            "5/5 [==============================] - 0s 31ms/step - loss: 0.0026 - accuracy: 1.0000 - val_loss: 0.5748 - val_accuracy: 0.8491\n",
            "Epoch 118/200\n",
            "5/5 [==============================] - 0s 30ms/step - loss: 0.0025 - accuracy: 1.0000 - val_loss: 0.5752 - val_accuracy: 0.8553\n",
            "Epoch 119/200\n",
            "5/5 [==============================] - 0s 34ms/step - loss: 0.0025 - accuracy: 1.0000 - val_loss: 0.5809 - val_accuracy: 0.8491\n",
            "Epoch 120/200\n",
            "5/5 [==============================] - 0s 28ms/step - loss: 0.0024 - accuracy: 1.0000 - val_loss: 0.5879 - val_accuracy: 0.8491\n",
            "Epoch 121/200\n",
            "5/5 [==============================] - 0s 26ms/step - loss: 0.0024 - accuracy: 1.0000 - val_loss: 0.5895 - val_accuracy: 0.8491\n",
            "Epoch 122/200\n",
            "5/5 [==============================] - 0s 35ms/step - loss: 0.0023 - accuracy: 1.0000 - val_loss: 0.5849 - val_accuracy: 0.8491\n",
            "Epoch 123/200\n",
            "5/5 [==============================] - 0s 26ms/step - loss: 0.0023 - accuracy: 1.0000 - val_loss: 0.5914 - val_accuracy: 0.8491\n",
            "Epoch 124/200\n",
            "5/5 [==============================] - 0s 28ms/step - loss: 0.0022 - accuracy: 1.0000 - val_loss: 0.5950 - val_accuracy: 0.8491\n",
            "Epoch 125/200\n",
            "5/5 [==============================] - 0s 28ms/step - loss: 0.0022 - accuracy: 1.0000 - val_loss: 0.5939 - val_accuracy: 0.8491\n",
            "Epoch 126/200\n",
            "5/5 [==============================] - 0s 28ms/step - loss: 0.0021 - accuracy: 1.0000 - val_loss: 0.5933 - val_accuracy: 0.8491\n",
            "Epoch 127/200\n",
            "5/5 [==============================] - 0s 28ms/step - loss: 0.0021 - accuracy: 1.0000 - val_loss: 0.5991 - val_accuracy: 0.8491\n",
            "Epoch 128/200\n",
            "5/5 [==============================] - 0s 28ms/step - loss: 0.0021 - accuracy: 1.0000 - val_loss: 0.6029 - val_accuracy: 0.8491\n",
            "Epoch 129/200\n",
            "5/5 [==============================] - 0s 27ms/step - loss: 0.0020 - accuracy: 1.0000 - val_loss: 0.6001 - val_accuracy: 0.8491\n",
            "Epoch 130/200\n",
            "5/5 [==============================] - 0s 27ms/step - loss: 0.0019 - accuracy: 1.0000 - val_loss: 0.5889 - val_accuracy: 0.8553\n",
            "Epoch 131/200\n",
            "5/5 [==============================] - 0s 27ms/step - loss: 0.0020 - accuracy: 1.0000 - val_loss: 0.5873 - val_accuracy: 0.8553\n",
            "Epoch 132/200\n",
            "5/5 [==============================] - 0s 26ms/step - loss: 0.0019 - accuracy: 1.0000 - val_loss: 0.5994 - val_accuracy: 0.8491\n",
            "Epoch 133/200\n",
            "5/5 [==============================] - 0s 28ms/step - loss: 0.0019 - accuracy: 1.0000 - val_loss: 0.6001 - val_accuracy: 0.8491\n",
            "Epoch 134/200\n",
            "5/5 [==============================] - 0s 27ms/step - loss: 0.0018 - accuracy: 1.0000 - val_loss: 0.6122 - val_accuracy: 0.8491\n",
            "Epoch 135/200\n",
            "5/5 [==============================] - 0s 28ms/step - loss: 0.0018 - accuracy: 1.0000 - val_loss: 0.6156 - val_accuracy: 0.8491\n",
            "Epoch 136/200\n",
            "5/5 [==============================] - 0s 27ms/step - loss: 0.0018 - accuracy: 1.0000 - val_loss: 0.6135 - val_accuracy: 0.8491\n",
            "Epoch 137/200\n",
            "5/5 [==============================] - 0s 28ms/step - loss: 0.0017 - accuracy: 1.0000 - val_loss: 0.6099 - val_accuracy: 0.8491\n",
            "Epoch 138/200\n",
            "5/5 [==============================] - 0s 25ms/step - loss: 0.0017 - accuracy: 1.0000 - val_loss: 0.6075 - val_accuracy: 0.8491\n",
            "Epoch 139/200\n",
            "5/5 [==============================] - 0s 27ms/step - loss: 0.0017 - accuracy: 1.0000 - val_loss: 0.6017 - val_accuracy: 0.8553\n",
            "Epoch 140/200\n",
            "5/5 [==============================] - 0s 26ms/step - loss: 0.0016 - accuracy: 1.0000 - val_loss: 0.6071 - val_accuracy: 0.8553\n",
            "Epoch 141/200\n",
            "5/5 [==============================] - 0s 26ms/step - loss: 0.0016 - accuracy: 1.0000 - val_loss: 0.6155 - val_accuracy: 0.8491\n",
            "Epoch 142/200\n",
            "5/5 [==============================] - 0s 29ms/step - loss: 0.0016 - accuracy: 1.0000 - val_loss: 0.6176 - val_accuracy: 0.8491\n",
            "Epoch 143/200\n",
            "5/5 [==============================] - 0s 26ms/step - loss: 0.0015 - accuracy: 1.0000 - val_loss: 0.6203 - val_accuracy: 0.8491\n",
            "Epoch 144/200\n",
            "5/5 [==============================] - 0s 27ms/step - loss: 0.0015 - accuracy: 1.0000 - val_loss: 0.6273 - val_accuracy: 0.8491\n",
            "Epoch 145/200\n",
            "5/5 [==============================] - 0s 27ms/step - loss: 0.0015 - accuracy: 1.0000 - val_loss: 0.6280 - val_accuracy: 0.8491\n",
            "Epoch 146/200\n",
            "5/5 [==============================] - 0s 28ms/step - loss: 0.0015 - accuracy: 1.0000 - val_loss: 0.6265 - val_accuracy: 0.8491\n",
            "Epoch 147/200\n",
            "5/5 [==============================] - 0s 27ms/step - loss: 0.0014 - accuracy: 1.0000 - val_loss: 0.6218 - val_accuracy: 0.8491\n",
            "Epoch 148/200\n",
            "5/5 [==============================] - 0s 38ms/step - loss: 0.0014 - accuracy: 1.0000 - val_loss: 0.6137 - val_accuracy: 0.8553\n",
            "Epoch 149/200\n",
            "5/5 [==============================] - 0s 33ms/step - loss: 0.0014 - accuracy: 1.0000 - val_loss: 0.6156 - val_accuracy: 0.8553\n",
            "Epoch 150/200\n",
            "5/5 [==============================] - 0s 28ms/step - loss: 0.0014 - accuracy: 1.0000 - val_loss: 0.6230 - val_accuracy: 0.8553\n",
            "Epoch 151/200\n",
            "5/5 [==============================] - 0s 30ms/step - loss: 0.0013 - accuracy: 1.0000 - val_loss: 0.6232 - val_accuracy: 0.8553\n",
            "Epoch 152/200\n",
            "5/5 [==============================] - 0s 28ms/step - loss: 0.0013 - accuracy: 1.0000 - val_loss: 0.6287 - val_accuracy: 0.8491\n",
            "Epoch 153/200\n",
            "5/5 [==============================] - 0s 28ms/step - loss: 0.0013 - accuracy: 1.0000 - val_loss: 0.6342 - val_accuracy: 0.8491\n",
            "Epoch 154/200\n",
            "5/5 [==============================] - 0s 28ms/step - loss: 0.0013 - accuracy: 1.0000 - val_loss: 0.6349 - val_accuracy: 0.8491\n",
            "Epoch 155/200\n",
            "5/5 [==============================] - 0s 27ms/step - loss: 0.0012 - accuracy: 1.0000 - val_loss: 0.6345 - val_accuracy: 0.8491\n",
            "Epoch 156/200\n",
            "5/5 [==============================] - 0s 30ms/step - loss: 0.0012 - accuracy: 1.0000 - val_loss: 0.6382 - val_accuracy: 0.8491\n",
            "Epoch 157/200\n",
            "5/5 [==============================] - 0s 30ms/step - loss: 0.0012 - accuracy: 1.0000 - val_loss: 0.6434 - val_accuracy: 0.8491\n",
            "Epoch 158/200\n",
            "5/5 [==============================] - 0s 28ms/step - loss: 0.0012 - accuracy: 1.0000 - val_loss: 0.6437 - val_accuracy: 0.8491\n",
            "Epoch 159/200\n",
            "5/5 [==============================] - 0s 29ms/step - loss: 0.0012 - accuracy: 1.0000 - val_loss: 0.6480 - val_accuracy: 0.8491\n",
            "Epoch 160/200\n",
            "5/5 [==============================] - 0s 28ms/step - loss: 0.0011 - accuracy: 1.0000 - val_loss: 0.6493 - val_accuracy: 0.8491\n",
            "Epoch 161/200\n",
            "5/5 [==============================] - 0s 28ms/step - loss: 0.0011 - accuracy: 1.0000 - val_loss: 0.6373 - val_accuracy: 0.8553\n",
            "Epoch 162/200\n",
            "5/5 [==============================] - 0s 27ms/step - loss: 0.0011 - accuracy: 1.0000 - val_loss: 0.6354 - val_accuracy: 0.8553\n",
            "Epoch 163/200\n",
            "5/5 [==============================] - 0s 28ms/step - loss: 0.0011 - accuracy: 1.0000 - val_loss: 0.6421 - val_accuracy: 0.8491\n",
            "Epoch 164/200\n",
            "5/5 [==============================] - 0s 32ms/step - loss: 0.0011 - accuracy: 1.0000 - val_loss: 0.6485 - val_accuracy: 0.8491\n",
            "Epoch 165/200\n",
            "5/5 [==============================] - 0s 28ms/step - loss: 0.0010 - accuracy: 1.0000 - val_loss: 0.6510 - val_accuracy: 0.8491\n",
            "Epoch 166/200\n",
            "5/5 [==============================] - 0s 27ms/step - loss: 0.0010 - accuracy: 1.0000 - val_loss: 0.6512 - val_accuracy: 0.8491\n",
            "Epoch 167/200\n",
            "5/5 [==============================] - 0s 31ms/step - loss: 0.0010 - accuracy: 1.0000 - val_loss: 0.6529 - val_accuracy: 0.8491\n",
            "Epoch 168/200\n",
            "5/5 [==============================] - 0s 29ms/step - loss: 0.0010 - accuracy: 1.0000 - val_loss: 0.6517 - val_accuracy: 0.8491\n",
            "Epoch 169/200\n",
            "5/5 [==============================] - 0s 28ms/step - loss: 9.9424e-04 - accuracy: 1.0000 - val_loss: 0.6499 - val_accuracy: 0.8491\n",
            "Epoch 170/200\n",
            "5/5 [==============================] - 0s 31ms/step - loss: 9.7104e-04 - accuracy: 1.0000 - val_loss: 0.6535 - val_accuracy: 0.8491\n",
            "Epoch 171/200\n",
            "5/5 [==============================] - 0s 27ms/step - loss: 9.5890e-04 - accuracy: 1.0000 - val_loss: 0.6575 - val_accuracy: 0.8491\n",
            "Epoch 172/200\n",
            "5/5 [==============================] - 0s 30ms/step - loss: 9.5077e-04 - accuracy: 1.0000 - val_loss: 0.6601 - val_accuracy: 0.8491\n",
            "Epoch 173/200\n",
            "5/5 [==============================] - 0s 30ms/step - loss: 9.1869e-04 - accuracy: 1.0000 - val_loss: 0.6545 - val_accuracy: 0.8491\n",
            "Epoch 174/200\n",
            "5/5 [==============================] - 0s 28ms/step - loss: 9.3883e-04 - accuracy: 1.0000 - val_loss: 0.6475 - val_accuracy: 0.8553\n",
            "Epoch 175/200\n",
            "5/5 [==============================] - 0s 27ms/step - loss: 9.1460e-04 - accuracy: 1.0000 - val_loss: 0.6549 - val_accuracy: 0.8491\n",
            "Epoch 176/200\n",
            "5/5 [==============================] - 0s 29ms/step - loss: 8.9306e-04 - accuracy: 1.0000 - val_loss: 0.6638 - val_accuracy: 0.8491\n",
            "Epoch 177/200\n",
            "5/5 [==============================] - 0s 27ms/step - loss: 8.8778e-04 - accuracy: 1.0000 - val_loss: 0.6694 - val_accuracy: 0.8491\n",
            "Epoch 178/200\n",
            "5/5 [==============================] - 0s 28ms/step - loss: 8.6945e-04 - accuracy: 1.0000 - val_loss: 0.6657 - val_accuracy: 0.8491\n",
            "Epoch 179/200\n",
            "5/5 [==============================] - 0s 28ms/step - loss: 8.4968e-04 - accuracy: 1.0000 - val_loss: 0.6629 - val_accuracy: 0.8491\n",
            "Epoch 180/200\n",
            "5/5 [==============================] - 0s 32ms/step - loss: 8.3857e-04 - accuracy: 1.0000 - val_loss: 0.6630 - val_accuracy: 0.8491\n",
            "Epoch 181/200\n",
            "5/5 [==============================] - 0s 28ms/step - loss: 8.2189e-04 - accuracy: 1.0000 - val_loss: 0.6657 - val_accuracy: 0.8491\n",
            "Epoch 182/200\n",
            "5/5 [==============================] - 0s 27ms/step - loss: 8.1106e-04 - accuracy: 1.0000 - val_loss: 0.6694 - val_accuracy: 0.8491\n",
            "Epoch 183/200\n",
            "5/5 [==============================] - 0s 28ms/step - loss: 8.0812e-04 - accuracy: 1.0000 - val_loss: 0.6745 - val_accuracy: 0.8491\n",
            "Epoch 184/200\n",
            "5/5 [==============================] - 0s 30ms/step - loss: 7.9585e-04 - accuracy: 1.0000 - val_loss: 0.6746 - val_accuracy: 0.8491\n",
            "Epoch 185/200\n",
            "5/5 [==============================] - 0s 30ms/step - loss: 7.7752e-04 - accuracy: 1.0000 - val_loss: 0.6709 - val_accuracy: 0.8491\n",
            "Epoch 186/200\n",
            "5/5 [==============================] - 0s 41ms/step - loss: 7.6862e-04 - accuracy: 1.0000 - val_loss: 0.6663 - val_accuracy: 0.8553\n",
            "Epoch 187/200\n",
            "5/5 [==============================] - 0s 34ms/step - loss: 7.6239e-04 - accuracy: 1.0000 - val_loss: 0.6656 - val_accuracy: 0.8553\n",
            "Epoch 188/200\n",
            "5/5 [==============================] - 0s 36ms/step - loss: 7.5770e-04 - accuracy: 1.0000 - val_loss: 0.6665 - val_accuracy: 0.8553\n",
            "Epoch 189/200\n",
            "5/5 [==============================] - 0s 34ms/step - loss: 7.4331e-04 - accuracy: 1.0000 - val_loss: 0.6715 - val_accuracy: 0.8491\n",
            "Epoch 190/200\n",
            "5/5 [==============================] - 0s 30ms/step - loss: 7.2895e-04 - accuracy: 1.0000 - val_loss: 0.6759 - val_accuracy: 0.8491\n",
            "Epoch 191/200\n",
            "5/5 [==============================] - 0s 32ms/step - loss: 7.2419e-04 - accuracy: 1.0000 - val_loss: 0.6797 - val_accuracy: 0.8491\n",
            "Epoch 192/200\n",
            "5/5 [==============================] - 0s 32ms/step - loss: 7.1730e-04 - accuracy: 1.0000 - val_loss: 0.6788 - val_accuracy: 0.8491\n",
            "Epoch 193/200\n",
            "5/5 [==============================] - 0s 39ms/step - loss: 7.0547e-04 - accuracy: 1.0000 - val_loss: 0.6800 - val_accuracy: 0.8491\n",
            "Epoch 194/200\n",
            "5/5 [==============================] - 0s 38ms/step - loss: 6.9545e-04 - accuracy: 1.0000 - val_loss: 0.6821 - val_accuracy: 0.8491\n",
            "Epoch 195/200\n",
            "5/5 [==============================] - 0s 36ms/step - loss: 6.8904e-04 - accuracy: 1.0000 - val_loss: 0.6824 - val_accuracy: 0.8491\n",
            "Epoch 196/200\n",
            "5/5 [==============================] - 0s 36ms/step - loss: 6.7684e-04 - accuracy: 1.0000 - val_loss: 0.6754 - val_accuracy: 0.8553\n",
            "Epoch 197/200\n",
            "5/5 [==============================] - 0s 36ms/step - loss: 6.6988e-04 - accuracy: 1.0000 - val_loss: 0.6746 - val_accuracy: 0.8553\n",
            "Epoch 198/200\n",
            "5/5 [==============================] - 0s 35ms/step - loss: 6.6380e-04 - accuracy: 1.0000 - val_loss: 0.6752 - val_accuracy: 0.8553\n",
            "Epoch 199/200\n",
            "5/5 [==============================] - 0s 38ms/step - loss: 6.5802e-04 - accuracy: 1.0000 - val_loss: 0.6801 - val_accuracy: 0.8553\n",
            "Epoch 200/200\n",
            "5/5 [==============================] - 0s 35ms/step - loss: 6.4601e-04 - accuracy: 1.0000 - val_loss: 0.6840 - val_accuracy: 0.8491\n"
          ]
        }
      ],
      "source": [
        "NUM_EPOCHS = 200\n",
        "BATCH_SIZE = 128\n",
        "\n",
        "# Train the model\n",
        "history_ann = model_ann.fit(padded, training_labels_final, batch_size=BATCH_SIZE, epochs=NUM_EPOCHS, validation_data=(testing_padded, testing_labels_final))"
      ]
    },
    {
      "cell_type": "code",
      "execution_count": 11,
      "metadata": {
        "id": "smv78QCcnOIc"
      },
      "outputs": [
        {
          "data": {
            "image/png": "[encoded data removed]",
            "text/plain": [
              "<Figure size 432x288 with 1 Axes>"
            ]
          },
          "metadata": {
            "needs_background": "light"
          },
          "output_type": "display_data"
        },
        {
          "data": {
            "image/png": "[encoded data removed]",
            "text/plain": [
              "<Figure size 432x288 with 1 Axes>"
            ]
          },
          "metadata": {
            "needs_background": "light"
          },
          "output_type": "display_data"
        }
      ],
      "source": [
        "# Plot the accuracy and loss history\n",
        "plot_graphs(history_ann, 'accuracy')\n",
        "plot_graphs(history_ann, 'loss')"
      ]
    },
    {
      "cell_type": "code",
      "execution_count": 12,
      "metadata": {
        "id": "FpWh7ZeAsbL6"
      },
      "outputs": [
        {
          "name": "stdout",
          "output_type": "stream",
          "text": [
            "5/5 - 0s - loss: 0.6840 - accuracy: 0.8491 - 91ms/epoch - 18ms/step\n"
          ]
        },
        {
          "data": {
            "text/plain": [
              "[0.6839581727981567, 0.849056601524353]"
            ]
          },
          "execution_count": 12,
          "metadata": {},
          "output_type": "execute_result"
        }
      ],
      "source": [
        "model_ann.evaluate(x=testing_padded, y=testing_labels_final, verbose=2)"
      ]
    },
    {
      "cell_type": "code",
      "execution_count": 13,
      "metadata": {
        "id": "RnMElKCxp4on"
      },
      "outputs": [],
      "source": [
        "# input_sentence = ['kamar mandi kotor', 'tempat nyaman bersih']\n",
        "input_sentence = sentences[:40]\n",
        "# Generate and pad the training sequences\n",
        "sequences_input = tokenizer.texts_to_sequences(input_sentence)\n",
        "padded_input = pad_sequences(sequences_input,maxlen=max_length, truncating=trunc_type)"
      ]
    },
    {
      "cell_type": "code",
      "execution_count": 14,
      "metadata": {
        "id": "35zFswK-rivs"
      },
      "outputs": [
        {
          "name": "stdout",
          "output_type": "stream",
          "text": [
            "2/2 [==============================] - 0s 7ms/step\n"
          ]
        }
      ],
      "source": [
        "predicted = model_ann.predict(padded_input)\n",
        "# print(predicted)\n",
        "rounded = [np.round(x) for x in predicted]"
      ]
    },
    {
      "cell_type": "code",
      "execution_count": 15,
      "metadata": {},
      "outputs": [],
      "source": [
        "label_predicted = []\n",
        "for i in rounded:\n",
        "    label_predicted.append(int(i))"
      ]
    },
    {
      "cell_type": "code",
      "execution_count": 16,
      "metadata": {},
      "outputs": [],
      "source": [
        "actual_labels = labels[:40]"
      ]
    },
    {
      "cell_type": "code",
      "execution_count": 17,
      "metadata": {},
      "outputs": [
        {
          "name": "stdout",
          "output_type": "stream",
          "text": [
            "                  precision    recall  f1-score   support\n",
            "\n",
            "Sentimen Positif       0.82      0.86      0.84        21\n",
            "Sentimen Negatif       0.83      0.79      0.81        19\n",
            "\n",
            "        accuracy                           0.82        40\n",
            "       macro avg       0.83      0.82      0.82        40\n",
            "    weighted avg       0.83      0.82      0.82        40\n",
            "\n"
          ]
        },
        {
          "data": {
            "text/plain": [
              "<AxesSubplot:>"
            ]
          },
          "execution_count": 17,
          "metadata": {},
          "output_type": "execute_result"
        },
        {
          "data": {
            "image/png": "[encoded data removed]",
            "text/plain": [
              "<Figure size 432x288 with 2 Axes>"
            ]
          },
          "metadata": {
            "needs_background": "light"
          },
          "output_type": "display_data"
        }
      ],
      "source": [
        "from sklearn.metrics import classification_report,confusion_matrix \n",
        "print(classification_report(actual_labels, label_predicted, target_names = ['Sentimen Positif','Sentimen Negatif']))\n",
        "visualize_cm = metrics.confusion_matrix(actual_labels, label_predicted)\n",
        "sns.heatmap(visualize_cm, annot=True)"
      ]
    }
  ],
  "metadata": {
    "accelerator": "GPU",
    "colab": {
      "collapsed_sections": [],
      "name": "ANN skripsi",
      "private_outputs": true,
      "provenance": []
    },
    "gpuClass": "standard",
    "kernelspec": {
      "display_name": "Python 3.8.13 ('skripsi')",
      "language": "python",
      "name": "python3"
    },
    "language_info": {
      "codemirror_mode": {
        "name": "ipython",
        "version": 3
      },
      "file_extension": ".py",
      "mimetype": "text/x-python",
      "name": "python",
      "nbconvert_exporter": "python",
      "pygments_lexer": "ipython3",
      "version": "3.8.13"
    },
    "vscode": {
      "interpreter": {
        "hash": "4842aaf1895e489c87fcc609f8d50c6f9d2e12c544b6fb95ced8cd49b8154563"
      }
    }
  },
  "nbformat": 4,
  "nbformat_minor": 0
}

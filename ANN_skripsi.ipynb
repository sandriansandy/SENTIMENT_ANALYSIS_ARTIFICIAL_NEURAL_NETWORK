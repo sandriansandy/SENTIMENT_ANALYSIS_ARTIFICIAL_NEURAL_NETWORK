{
  "cells": [
    {
      "cell_type": "markdown",
      "metadata": {
        "id": "-0U4VLxtoAqi"
      },
      "source": [
        "<a href=\"https://colab.research.google.com/github/https-deeplearning-ai/tensorflow-1-public/blob/master/C3/W3/ungraded_labs/C3_W3_Lab_4_imdb_reviews_with_GRU_LSTM_Conv1D.ipynb\" target=\"_parent\"><img src=\"https://colab.research.google.com/assets/colab-badge.svg\" alt=\"Open In Colab\"/></a>"
      ]
    },
    {
      "cell_type": "markdown",
      "metadata": {
        "id": "-6PhPXVCa_1i"
      },
      "source": [
        "## Imports\n",
        "\n",
        "You will first import common libraries that will be used throughout the exercise."
      ]
    },
    {
      "cell_type": "code",
      "execution_count": 1,
      "metadata": {},
      "outputs": [],
      "source": [
        "#pip install import-ipynb"
      ]
    },
    {
      "cell_type": "code",
      "execution_count": 2,
      "metadata": {
        "id": "WA0Fi9p9ah5_"
      },
      "outputs": [
        {
          "name": "stderr",
          "output_type": "stream",
          "text": [
            "c:\\Users\\ihsan\\miniconda3\\envs\\skripsi\\lib\\site-packages\\scipy\\__init__.py:146: UserWarning: A NumPy version >=1.16.5 and <1.23.0 is required for this version of SciPy (detected version 1.23.3\n",
            "  warnings.warn(f\"A NumPy version >={np_minversion} and <{np_maxversion}\"\n"
          ]
        }
      ],
      "source": [
        "# import tensorflow_datasets as tfds\n",
        "import tensorflow as tf\n",
        "import numpy as np\n",
        "\n",
        "from tensorflow.keras.preprocessing.text import Tokenizer\n",
        "from tensorflow.keras.preprocessing.sequence import pad_sequences\n",
        "import import_ipynb\n",
        "import pandas as pd\n",
        "import seaborn as sns\n",
        "from sklearn import metrics\n"
      ]
    },
    {
      "cell_type": "code",
      "execution_count": 3,
      "metadata": {},
      "outputs": [
        {
          "name": "stdout",
          "output_type": "stream",
          "text": [
            "importing Jupyter notebook from preprocessing.ipynb\n"
          ]
        }
      ],
      "source": [
        "import preprocessing"
      ]
    },
    {
      "cell_type": "code",
      "execution_count": 4,
      "metadata": {},
      "outputs": [],
      "source": [
        "review_data = pd.read_excel('data_scrapping_gabungan.xlsx')\n",
        "sentences = []\n",
        "labels = []\n",
        "for review in review_data['NO OUTLIER & STOPWORD']:\n",
        "    sentences.append(review)\n",
        "\n",
        "for label in review_data['Sentimen (Positif 0 - Negatif 1)']:\n",
        "    labels.append(label)\n"
      ]
    },
    {
      "cell_type": "code",
      "execution_count": 5,
      "metadata": {
        "id": "6xruy47LbCqt"
      },
      "outputs": [],
      "source": [
        "# Initialize sentences and labels lists\n",
        "'''\n",
        "70 : 20 : 10\n",
        "train : validation : test = 557 : 159 : 80\n",
        "==========================================\n",
        "80 : 10 : 10\n",
        "train : validation : test = 636 : 80 : 80\n",
        "'''\n",
        "\n",
        "# 70:20:10\n",
        "# training_sentences = sentences[80:637]\n",
        "# training_labels = labels[80:637]\n",
        "\n",
        "# testing_sentences = sentences[637:]\n",
        "# testing_labels = labels[637:]\n",
        "\n",
        "# 80:10:10\n",
        "# training_sentences = sentences[80:716]\n",
        "# training_labels = labels[80:716]\n",
        "\n",
        "# testing_sentences = sentences[716:]\n",
        "# testing_labels = labels[716:]\n",
        "\n",
        "# 90:5:5\n",
        "training_sentences = sentences[40:716]\n",
        "training_labels = labels[40:716]\n",
        "\n",
        "testing_sentences = sentences[716:]\n",
        "testing_labels = labels[716:]"
      ]
    },
    {
      "cell_type": "code",
      "execution_count": 6,
      "metadata": {},
      "outputs": [],
      "source": [
        "training_labels_final = np.array(training_labels)\n",
        "testing_labels_final = np.array(testing_labels)"
      ]
    },
    {
      "cell_type": "code",
      "execution_count": 7,
      "metadata": {
        "id": "7n15yyMdmoH1"
      },
      "outputs": [],
      "source": [
        "# Parameters\n",
        "vocab_size = 10000\n",
        "max_length = 75\n",
        "trunc_type='post'\n",
        "oov_tok = \"<OOV>\"\n",
        "\n",
        "# Initialize the Tokenizer class\n",
        "tokenizer = Tokenizer(num_words = vocab_size, oov_token=oov_tok)\n",
        "\n",
        "# Generate the word index dictionary for the training sentences\n",
        "tokenizer.fit_on_texts(training_sentences)\n",
        "word_index = tokenizer.word_index\n",
        "\n",
        "# Generate and pad the training sequences\n",
        "sequences = tokenizer.texts_to_sequences(training_sentences)\n",
        "padded = pad_sequences(sequences,maxlen=max_length, truncating=trunc_type)\n",
        "\n",
        "# Generate and pad the test sequences\n",
        "testing_sequences = tokenizer.texts_to_sequences(testing_sentences)\n",
        "testing_padded = pad_sequences(testing_sequences,maxlen=max_length)"
      ]
    },
    {
      "cell_type": "markdown",
      "metadata": {
        "id": "cs4GDKAFbJdq"
      },
      "source": [
        "## Plot Utility\n",
        "\n",
        "Before you define the models, you will define the function below so you can easily visualize the accuracy and loss history after training."
      ]
    },
    {
      "cell_type": "code",
      "execution_count": 8,
      "metadata": {
        "id": "nHGYuU4jPYaj"
      },
      "outputs": [],
      "source": [
        "import matplotlib.pyplot as plt\n",
        "\n",
        "# Plot Utility\n",
        "def plot_graphs(history, string):\n",
        "  plt.plot(history.history[string])\n",
        "  plt.plot(history.history['val_'+string])\n",
        "  plt.xlabel(\"Epochs\")\n",
        "  plt.ylabel(string)\n",
        "  plt.legend([string, 'val_'+string])\n",
        "  plt.show()"
      ]
    },
    {
      "cell_type": "markdown",
      "metadata": {
        "id": "gRlKm7rUkbfz"
      },
      "source": [
        "## Model 0: ANN"
      ]
    },
    {
      "cell_type": "code",
      "execution_count": 9,
      "metadata": {
        "id": "ZDy6bkq-kaQB"
      },
      "outputs": [
        {
          "name": "stdout",
          "output_type": "stream",
          "text": [
            "Model: \"sequential\"\n",
            "_________________________________________________________________\n",
            " Layer (type)                Output Shape              Param #   \n",
            "=================================================================\n",
            " embedding (Embedding)       (None, 75, 32)            320000    \n",
            "                                                                 \n",
            " flatten (Flatten)           (None, 2400)              0         \n",
            "                                                                 \n",
            " dense (Dense)               (None, 128)               307328    \n",
            "                                                                 \n",
            " dense_1 (Dense)             (None, 1)                 129       \n",
            "                                                                 \n",
            "=================================================================\n",
            "Total params: 627,457\n",
            "Trainable params: 627,457\n",
            "Non-trainable params: 0\n",
            "_________________________________________________________________\n"
          ]
        }
      ],
      "source": [
        "# Parameters\n",
        "embedding_dim = 32\n",
        "dense_dim = 128\n",
        "\n",
        "model_ann = tf.keras.Sequential([\n",
        "    tf.keras.layers.Embedding(vocab_size, embedding_dim, input_length=max_length),\n",
        "    tf.keras.layers.Flatten(),\n",
        "    tf.keras.layers.Dense(dense_dim, activation='relu'),\n",
        "    tf.keras.layers.Dense(1, activation='sigmoid')\n",
        "])\n",
        "\n",
        "# Set the training parameters\n",
        "model_ann.compile(loss='binary_crossentropy',optimizer='adam',metrics=['accuracy'])\n",
        "\n",
        "# Print the model summary\n",
        "model_ann.summary()"
      ]
    },
    {
      "cell_type": "code",
      "execution_count": 10,
      "metadata": {
        "id": "ZPejGQhDnKPg"
      },
      "outputs": [
        {
          "name": "stdout",
          "output_type": "stream",
          "text": [
            "Epoch 1/200\n",
            "6/6 [==============================] - 7s 256ms/step - loss: 0.6828 - accuracy: 0.5651 - val_loss: 0.6846 - val_accuracy: 0.5625\n",
            "Epoch 2/200\n",
            "6/6 [==============================] - 0s 60ms/step - loss: 0.6542 - accuracy: 0.6346 - val_loss: 0.6533 - val_accuracy: 0.6000\n",
            "Epoch 3/200\n",
            "6/6 [==============================] - 0s 62ms/step - loss: 0.6332 - accuracy: 0.6317 - val_loss: 0.6128 - val_accuracy: 0.7000\n",
            "Epoch 4/200\n",
            "6/6 [==============================] - 0s 48ms/step - loss: 0.5838 - accuracy: 0.7086 - val_loss: 0.5771 - val_accuracy: 0.7250\n",
            "Epoch 5/200\n",
            "6/6 [==============================] - 0s 49ms/step - loss: 0.5411 - accuracy: 0.7396 - val_loss: 0.5574 - val_accuracy: 0.7375\n",
            "Epoch 6/200\n",
            "6/6 [==============================] - 0s 67ms/step - loss: 0.4868 - accuracy: 0.7751 - val_loss: 0.5090 - val_accuracy: 0.7625\n",
            "Epoch 7/200\n",
            "6/6 [==============================] - 0s 55ms/step - loss: 0.4246 - accuracy: 0.8225 - val_loss: 0.4768 - val_accuracy: 0.7875\n",
            "Epoch 8/200\n",
            "6/6 [==============================] - 0s 65ms/step - loss: 0.3669 - accuracy: 0.8565 - val_loss: 0.4279 - val_accuracy: 0.8375\n",
            "Epoch 9/200\n",
            "6/6 [==============================] - 0s 69ms/step - loss: 0.3115 - accuracy: 0.9038 - val_loss: 0.3896 - val_accuracy: 0.8250\n",
            "Epoch 10/200\n",
            "6/6 [==============================] - 0s 37ms/step - loss: 0.2622 - accuracy: 0.9275 - val_loss: 0.3571 - val_accuracy: 0.8625\n",
            "Epoch 11/200\n",
            "6/6 [==============================] - 0s 34ms/step - loss: 0.2228 - accuracy: 0.9393 - val_loss: 0.3344 - val_accuracy: 0.8750\n",
            "Epoch 12/200\n",
            "6/6 [==============================] - 0s 33ms/step - loss: 0.1932 - accuracy: 0.9467 - val_loss: 0.3195 - val_accuracy: 0.8750\n",
            "Epoch 13/200\n",
            "6/6 [==============================] - 0s 40ms/step - loss: 0.1706 - accuracy: 0.9497 - val_loss: 0.3077 - val_accuracy: 0.9000\n",
            "Epoch 14/200\n",
            "6/6 [==============================] - 0s 46ms/step - loss: 0.1449 - accuracy: 0.9541 - val_loss: 0.3063 - val_accuracy: 0.8875\n",
            "Epoch 15/200\n",
            "6/6 [==============================] - 0s 43ms/step - loss: 0.1219 - accuracy: 0.9601 - val_loss: 0.3077 - val_accuracy: 0.8625\n",
            "Epoch 16/200\n",
            "6/6 [==============================] - 0s 35ms/step - loss: 0.1119 - accuracy: 0.9704 - val_loss: 0.3041 - val_accuracy: 0.8875\n",
            "Epoch 17/200\n",
            "6/6 [==============================] - 0s 32ms/step - loss: 0.0952 - accuracy: 0.9689 - val_loss: 0.3068 - val_accuracy: 0.8875\n",
            "Epoch 18/200\n",
            "6/6 [==============================] - 0s 55ms/step - loss: 0.0816 - accuracy: 0.9808 - val_loss: 0.3107 - val_accuracy: 0.8875\n",
            "Epoch 19/200\n",
            "6/6 [==============================] - 0s 46ms/step - loss: 0.0727 - accuracy: 0.9822 - val_loss: 0.3148 - val_accuracy: 0.8875\n",
            "Epoch 20/200\n",
            "6/6 [==============================] - 0s 41ms/step - loss: 0.0649 - accuracy: 0.9808 - val_loss: 0.3212 - val_accuracy: 0.9000\n",
            "Epoch 21/200\n",
            "6/6 [==============================] - 0s 40ms/step - loss: 0.0563 - accuracy: 0.9867 - val_loss: 0.3265 - val_accuracy: 0.8875\n",
            "Epoch 22/200\n",
            "6/6 [==============================] - 0s 35ms/step - loss: 0.0492 - accuracy: 0.9852 - val_loss: 0.3360 - val_accuracy: 0.8875\n",
            "Epoch 23/200\n",
            "6/6 [==============================] - 0s 37ms/step - loss: 0.0436 - accuracy: 0.9896 - val_loss: 0.3383 - val_accuracy: 0.8875\n",
            "Epoch 24/200\n",
            "6/6 [==============================] - 0s 41ms/step - loss: 0.0385 - accuracy: 0.9926 - val_loss: 0.3495 - val_accuracy: 0.8875\n",
            "Epoch 25/200\n",
            "6/6 [==============================] - 0s 44ms/step - loss: 0.0357 - accuracy: 0.9926 - val_loss: 0.3522 - val_accuracy: 0.8875\n",
            "Epoch 26/200\n",
            "6/6 [==============================] - 0s 49ms/step - loss: 0.0304 - accuracy: 0.9970 - val_loss: 0.3554 - val_accuracy: 0.8875\n",
            "Epoch 27/200\n",
            "6/6 [==============================] - 0s 40ms/step - loss: 0.0276 - accuracy: 0.9970 - val_loss: 0.3629 - val_accuracy: 0.8875\n",
            "Epoch 28/200\n",
            "6/6 [==============================] - 0s 39ms/step - loss: 0.0254 - accuracy: 0.9956 - val_loss: 0.3678 - val_accuracy: 0.8875\n",
            "Epoch 29/200\n",
            "6/6 [==============================] - 0s 41ms/step - loss: 0.0232 - accuracy: 0.9956 - val_loss: 0.3750 - val_accuracy: 0.8875\n",
            "Epoch 30/200\n",
            "6/6 [==============================] - 0s 40ms/step - loss: 0.0216 - accuracy: 0.9941 - val_loss: 0.3805 - val_accuracy: 0.8875\n",
            "Epoch 31/200\n",
            "6/6 [==============================] - 0s 42ms/step - loss: 0.0205 - accuracy: 0.9970 - val_loss: 0.3885 - val_accuracy: 0.8875\n",
            "Epoch 32/200\n",
            "6/6 [==============================] - 0s 42ms/step - loss: 0.0191 - accuracy: 0.9970 - val_loss: 0.3890 - val_accuracy: 0.8875\n",
            "Epoch 33/200\n",
            "6/6 [==============================] - 0s 40ms/step - loss: 0.0177 - accuracy: 0.9956 - val_loss: 0.3954 - val_accuracy: 0.8875\n",
            "Epoch 34/200\n",
            "6/6 [==============================] - 0s 52ms/step - loss: 0.0165 - accuracy: 0.9956 - val_loss: 0.4034 - val_accuracy: 0.8875\n",
            "Epoch 35/200\n",
            "6/6 [==============================] - 0s 82ms/step - loss: 0.0155 - accuracy: 0.9970 - val_loss: 0.4089 - val_accuracy: 0.8875\n",
            "Epoch 36/200\n",
            "6/6 [==============================] - 0s 60ms/step - loss: 0.0153 - accuracy: 0.9956 - val_loss: 0.4128 - val_accuracy: 0.8875\n",
            "Epoch 37/200\n",
            "6/6 [==============================] - 0s 61ms/step - loss: 0.0150 - accuracy: 0.9956 - val_loss: 0.4162 - val_accuracy: 0.8875\n",
            "Epoch 38/200\n",
            "6/6 [==============================] - 0s 61ms/step - loss: 0.0129 - accuracy: 0.9970 - val_loss: 0.4254 - val_accuracy: 0.8875\n",
            "Epoch 39/200\n",
            "6/6 [==============================] - 0s 60ms/step - loss: 0.0131 - accuracy: 0.9956 - val_loss: 0.4286 - val_accuracy: 0.8875\n",
            "Epoch 40/200\n",
            "6/6 [==============================] - 0s 69ms/step - loss: 0.0119 - accuracy: 0.9970 - val_loss: 0.4306 - val_accuracy: 0.8875\n",
            "Epoch 41/200\n",
            "6/6 [==============================] - 0s 53ms/step - loss: 0.0110 - accuracy: 0.9970 - val_loss: 0.4342 - val_accuracy: 0.8875\n",
            "Epoch 42/200\n",
            "6/6 [==============================] - 0s 53ms/step - loss: 0.0109 - accuracy: 0.9956 - val_loss: 0.4423 - val_accuracy: 0.8875\n",
            "Epoch 43/200\n",
            "6/6 [==============================] - 0s 64ms/step - loss: 0.0103 - accuracy: 0.9970 - val_loss: 0.4406 - val_accuracy: 0.8875\n",
            "Epoch 44/200\n",
            "6/6 [==============================] - 0s 64ms/step - loss: 0.0097 - accuracy: 0.9985 - val_loss: 0.4436 - val_accuracy: 0.8875\n",
            "Epoch 45/200\n",
            "6/6 [==============================] - 0s 56ms/step - loss: 0.0092 - accuracy: 0.9970 - val_loss: 0.4522 - val_accuracy: 0.8875\n",
            "Epoch 46/200\n",
            "6/6 [==============================] - 0s 80ms/step - loss: 0.0088 - accuracy: 0.9970 - val_loss: 0.4537 - val_accuracy: 0.8875\n",
            "Epoch 47/200\n",
            "6/6 [==============================] - 0s 70ms/step - loss: 0.0087 - accuracy: 0.9985 - val_loss: 0.4575 - val_accuracy: 0.8875\n",
            "Epoch 48/200\n",
            "6/6 [==============================] - 0s 70ms/step - loss: 0.0082 - accuracy: 0.9985 - val_loss: 0.4622 - val_accuracy: 0.8875\n",
            "Epoch 49/200\n",
            "6/6 [==============================] - 0s 63ms/step - loss: 0.0079 - accuracy: 0.9985 - val_loss: 0.4674 - val_accuracy: 0.8875\n",
            "Epoch 50/200\n",
            "6/6 [==============================] - 0s 67ms/step - loss: 0.0079 - accuracy: 0.9970 - val_loss: 0.4765 - val_accuracy: 0.8875\n",
            "Epoch 51/200\n",
            "6/6 [==============================] - 0s 88ms/step - loss: 0.0080 - accuracy: 0.9970 - val_loss: 0.4706 - val_accuracy: 0.8875\n",
            "Epoch 52/200\n",
            "6/6 [==============================] - 1s 105ms/step - loss: 0.0082 - accuracy: 0.9985 - val_loss: 0.4758 - val_accuracy: 0.8875\n",
            "Epoch 53/200\n",
            "6/6 [==============================] - 0s 77ms/step - loss: 0.0088 - accuracy: 0.9985 - val_loss: 0.4766 - val_accuracy: 0.8875\n",
            "Epoch 54/200\n",
            "6/6 [==============================] - 0s 58ms/step - loss: 0.0079 - accuracy: 0.9985 - val_loss: 0.4772 - val_accuracy: 0.8875\n",
            "Epoch 55/200\n",
            "6/6 [==============================] - 0s 71ms/step - loss: 0.0064 - accuracy: 0.9985 - val_loss: 0.4802 - val_accuracy: 0.8875\n",
            "Epoch 56/200\n",
            "6/6 [==============================] - 0s 53ms/step - loss: 0.0065 - accuracy: 0.9985 - val_loss: 0.4846 - val_accuracy: 0.8875\n",
            "Epoch 57/200\n",
            "6/6 [==============================] - 0s 58ms/step - loss: 0.0062 - accuracy: 0.9985 - val_loss: 0.4934 - val_accuracy: 0.8875\n",
            "Epoch 58/200\n",
            "6/6 [==============================] - 0s 53ms/step - loss: 0.0060 - accuracy: 0.9985 - val_loss: 0.4985 - val_accuracy: 0.8875\n",
            "Epoch 59/200\n",
            "6/6 [==============================] - 0s 51ms/step - loss: 0.0055 - accuracy: 0.9970 - val_loss: 0.4916 - val_accuracy: 0.8875\n",
            "Epoch 60/200\n",
            "6/6 [==============================] - 0s 47ms/step - loss: 0.0058 - accuracy: 0.9985 - val_loss: 0.4973 - val_accuracy: 0.8875\n",
            "Epoch 61/200\n",
            "6/6 [==============================] - 0s 58ms/step - loss: 0.0055 - accuracy: 0.9970 - val_loss: 0.5077 - val_accuracy: 0.8875\n",
            "Epoch 62/200\n",
            "6/6 [==============================] - 0s 53ms/step - loss: 0.0053 - accuracy: 0.9970 - val_loss: 0.5077 - val_accuracy: 0.8875\n",
            "Epoch 63/200\n",
            "6/6 [==============================] - 0s 58ms/step - loss: 0.0052 - accuracy: 0.9970 - val_loss: 0.5056 - val_accuracy: 0.8875\n",
            "Epoch 64/200\n",
            "6/6 [==============================] - 0s 53ms/step - loss: 0.0064 - accuracy: 0.9985 - val_loss: 0.5072 - val_accuracy: 0.8875\n",
            "Epoch 65/200\n",
            "6/6 [==============================] - 0s 49ms/step - loss: 0.0061 - accuracy: 0.9985 - val_loss: 0.5197 - val_accuracy: 0.8875\n",
            "Epoch 66/200\n",
            "6/6 [==============================] - 0s 56ms/step - loss: 0.0060 - accuracy: 0.9985 - val_loss: 0.5281 - val_accuracy: 0.8875\n",
            "Epoch 67/200\n",
            "6/6 [==============================] - 0s 54ms/step - loss: 0.0051 - accuracy: 0.9985 - val_loss: 0.5147 - val_accuracy: 0.8875\n",
            "Epoch 68/200\n",
            "6/6 [==============================] - 0s 70ms/step - loss: 0.0070 - accuracy: 0.9985 - val_loss: 0.5147 - val_accuracy: 0.9000\n",
            "Epoch 69/200\n",
            "6/6 [==============================] - 0s 52ms/step - loss: 0.0046 - accuracy: 0.9985 - val_loss: 0.5409 - val_accuracy: 0.8875\n",
            "Epoch 70/200\n",
            "6/6 [==============================] - 0s 56ms/step - loss: 0.0077 - accuracy: 0.9985 - val_loss: 0.5399 - val_accuracy: 0.8750\n",
            "Epoch 71/200\n",
            "6/6 [==============================] - 0s 52ms/step - loss: 0.0070 - accuracy: 0.9985 - val_loss: 0.5206 - val_accuracy: 0.9000\n",
            "Epoch 72/200\n",
            "6/6 [==============================] - 0s 56ms/step - loss: 0.0051 - accuracy: 0.9985 - val_loss: 0.5256 - val_accuracy: 0.8875\n",
            "Epoch 73/200\n",
            "6/6 [==============================] - 0s 61ms/step - loss: 0.0048 - accuracy: 0.9985 - val_loss: 0.5321 - val_accuracy: 0.8875\n",
            "Epoch 74/200\n",
            "6/6 [==============================] - 0s 77ms/step - loss: 0.0046 - accuracy: 0.9985 - val_loss: 0.5337 - val_accuracy: 0.8875\n",
            "Epoch 75/200\n",
            "6/6 [==============================] - 0s 49ms/step - loss: 0.0040 - accuracy: 0.9985 - val_loss: 0.5376 - val_accuracy: 0.8875\n",
            "Epoch 76/200\n",
            "6/6 [==============================] - 0s 67ms/step - loss: 0.0041 - accuracy: 0.9985 - val_loss: 0.5428 - val_accuracy: 0.8875\n",
            "Epoch 77/200\n",
            "6/6 [==============================] - 0s 50ms/step - loss: 0.0039 - accuracy: 0.9985 - val_loss: 0.5454 - val_accuracy: 0.8875\n",
            "Epoch 78/200\n",
            "6/6 [==============================] - 0s 48ms/step - loss: 0.0040 - accuracy: 0.9985 - val_loss: 0.5432 - val_accuracy: 0.8875\n",
            "Epoch 79/200\n",
            "6/6 [==============================] - 0s 53ms/step - loss: 0.0038 - accuracy: 0.9985 - val_loss: 0.5430 - val_accuracy: 0.8875\n",
            "Epoch 80/200\n",
            "6/6 [==============================] - 0s 67ms/step - loss: 0.0039 - accuracy: 0.9970 - val_loss: 0.5413 - val_accuracy: 0.8875\n",
            "Epoch 81/200\n",
            "6/6 [==============================] - 0s 48ms/step - loss: 0.0050 - accuracy: 0.9985 - val_loss: 0.5415 - val_accuracy: 0.8875\n",
            "Epoch 82/200\n",
            "6/6 [==============================] - 0s 45ms/step - loss: 0.0055 - accuracy: 0.9985 - val_loss: 0.5514 - val_accuracy: 0.8875\n",
            "Epoch 83/200\n",
            "6/6 [==============================] - 0s 47ms/step - loss: 0.0049 - accuracy: 0.9985 - val_loss: 0.5701 - val_accuracy: 0.8875\n",
            "Epoch 84/200\n",
            "6/6 [==============================] - 0s 45ms/step - loss: 0.0040 - accuracy: 0.9985 - val_loss: 0.5662 - val_accuracy: 0.8875\n",
            "Epoch 85/200\n",
            "6/6 [==============================] - 0s 42ms/step - loss: 0.0040 - accuracy: 0.9985 - val_loss: 0.5587 - val_accuracy: 0.8875\n",
            "Epoch 86/200\n",
            "6/6 [==============================] - 0s 38ms/step - loss: 0.0035 - accuracy: 0.9985 - val_loss: 0.5554 - val_accuracy: 0.9000\n",
            "Epoch 87/200\n",
            "6/6 [==============================] - 0s 56ms/step - loss: 0.0035 - accuracy: 0.9985 - val_loss: 0.5574 - val_accuracy: 0.8875\n",
            "Epoch 88/200\n",
            "6/6 [==============================] - 0s 41ms/step - loss: 0.0040 - accuracy: 0.9985 - val_loss: 0.5645 - val_accuracy: 0.8875\n",
            "Epoch 89/200\n",
            "6/6 [==============================] - 0s 39ms/step - loss: 0.0036 - accuracy: 0.9985 - val_loss: 0.5731 - val_accuracy: 0.8875\n",
            "Epoch 90/200\n",
            "6/6 [==============================] - 0s 38ms/step - loss: 0.0042 - accuracy: 0.9985 - val_loss: 0.5752 - val_accuracy: 0.8875\n",
            "Epoch 91/200\n",
            "6/6 [==============================] - 0s 36ms/step - loss: 0.0034 - accuracy: 0.9985 - val_loss: 0.5634 - val_accuracy: 0.9000\n",
            "Epoch 92/200\n",
            "6/6 [==============================] - 0s 33ms/step - loss: 0.0040 - accuracy: 0.9985 - val_loss: 0.5650 - val_accuracy: 0.9000\n",
            "Epoch 93/200\n",
            "6/6 [==============================] - 0s 41ms/step - loss: 0.0038 - accuracy: 0.9985 - val_loss: 0.5752 - val_accuracy: 0.8875\n",
            "Epoch 94/200\n",
            "6/6 [==============================] - 0s 37ms/step - loss: 0.0034 - accuracy: 0.9970 - val_loss: 0.5783 - val_accuracy: 0.8875\n",
            "Epoch 95/200\n",
            "6/6 [==============================] - 0s 38ms/step - loss: 0.0035 - accuracy: 0.9970 - val_loss: 0.5825 - val_accuracy: 0.8875\n",
            "Epoch 96/200\n",
            "6/6 [==============================] - 0s 50ms/step - loss: 0.0034 - accuracy: 0.9985 - val_loss: 0.5802 - val_accuracy: 0.8875\n",
            "Epoch 97/200\n",
            "6/6 [==============================] - 0s 35ms/step - loss: 0.0031 - accuracy: 0.9985 - val_loss: 0.5776 - val_accuracy: 0.8875\n",
            "Epoch 98/200\n",
            "6/6 [==============================] - 0s 32ms/step - loss: 0.0032 - accuracy: 0.9985 - val_loss: 0.5783 - val_accuracy: 0.8875\n",
            "Epoch 99/200\n",
            "6/6 [==============================] - 0s 44ms/step - loss: 0.0030 - accuracy: 0.9985 - val_loss: 0.5884 - val_accuracy: 0.8875\n",
            "Epoch 100/200\n",
            "6/6 [==============================] - 0s 50ms/step - loss: 0.0031 - accuracy: 0.9985 - val_loss: 0.5913 - val_accuracy: 0.8875\n",
            "Epoch 101/200\n",
            "6/6 [==============================] - 0s 59ms/step - loss: 0.0034 - accuracy: 0.9970 - val_loss: 0.5897 - val_accuracy: 0.8875\n",
            "Epoch 102/200\n",
            "6/6 [==============================] - 0s 53ms/step - loss: 0.0034 - accuracy: 0.9985 - val_loss: 0.5876 - val_accuracy: 0.8875\n",
            "Epoch 103/200\n",
            "6/6 [==============================] - 0s 42ms/step - loss: 0.0030 - accuracy: 0.9985 - val_loss: 0.5908 - val_accuracy: 0.8875\n",
            "Epoch 104/200\n",
            "6/6 [==============================] - 0s 54ms/step - loss: 0.0029 - accuracy: 0.9985 - val_loss: 0.5920 - val_accuracy: 0.8875\n",
            "Epoch 105/200\n",
            "6/6 [==============================] - 0s 39ms/step - loss: 0.0032 - accuracy: 0.9985 - val_loss: 0.5903 - val_accuracy: 0.8875\n",
            "Epoch 106/200\n",
            "6/6 [==============================] - 0s 37ms/step - loss: 0.0029 - accuracy: 0.9985 - val_loss: 0.5894 - val_accuracy: 0.8875\n",
            "Epoch 107/200\n",
            "6/6 [==============================] - 0s 41ms/step - loss: 0.0031 - accuracy: 0.9985 - val_loss: 0.5920 - val_accuracy: 0.8875\n",
            "Epoch 108/200\n",
            "6/6 [==============================] - 0s 38ms/step - loss: 0.0030 - accuracy: 0.9985 - val_loss: 0.5972 - val_accuracy: 0.8875\n",
            "Epoch 109/200\n",
            "6/6 [==============================] - 0s 38ms/step - loss: 0.0029 - accuracy: 0.9985 - val_loss: 0.6021 - val_accuracy: 0.8875\n",
            "Epoch 110/200\n",
            "6/6 [==============================] - 0s 40ms/step - loss: 0.0028 - accuracy: 0.9985 - val_loss: 0.6034 - val_accuracy: 0.8875\n",
            "Epoch 111/200\n",
            "6/6 [==============================] - 0s 46ms/step - loss: 0.0027 - accuracy: 0.9985 - val_loss: 0.6014 - val_accuracy: 0.8875\n",
            "Epoch 112/200\n",
            "6/6 [==============================] - 0s 63ms/step - loss: 0.0027 - accuracy: 0.9985 - val_loss: 0.6029 - val_accuracy: 0.8875\n",
            "Epoch 113/200\n",
            "6/6 [==============================] - 0s 39ms/step - loss: 0.0029 - accuracy: 0.9970 - val_loss: 0.6051 - val_accuracy: 0.8875\n",
            "Epoch 114/200\n",
            "6/6 [==============================] - 0s 43ms/step - loss: 0.0033 - accuracy: 0.9970 - val_loss: 0.6042 - val_accuracy: 0.8875\n",
            "Epoch 115/200\n",
            "6/6 [==============================] - 0s 41ms/step - loss: 0.0028 - accuracy: 0.9985 - val_loss: 0.6101 - val_accuracy: 0.8875\n",
            "Epoch 116/200\n",
            "6/6 [==============================] - 0s 43ms/step - loss: 0.0027 - accuracy: 0.9985 - val_loss: 0.6134 - val_accuracy: 0.8875\n",
            "Epoch 117/200\n",
            "6/6 [==============================] - 0s 43ms/step - loss: 0.0029 - accuracy: 0.9985 - val_loss: 0.6107 - val_accuracy: 0.8875\n",
            "Epoch 118/200\n",
            "6/6 [==============================] - 0s 36ms/step - loss: 0.0029 - accuracy: 0.9985 - val_loss: 0.6100 - val_accuracy: 0.8875\n",
            "Epoch 119/200\n",
            "6/6 [==============================] - 0s 41ms/step - loss: 0.0031 - accuracy: 0.9970 - val_loss: 0.6128 - val_accuracy: 0.8875\n",
            "Epoch 120/200\n",
            "6/6 [==============================] - 0s 59ms/step - loss: 0.0035 - accuracy: 0.9970 - val_loss: 0.6115 - val_accuracy: 0.8875\n",
            "Epoch 121/200\n",
            "6/6 [==============================] - 0s 51ms/step - loss: 0.0029 - accuracy: 0.9985 - val_loss: 0.6188 - val_accuracy: 0.8875\n",
            "Epoch 122/200\n",
            "6/6 [==============================] - 0s 47ms/step - loss: 0.0040 - accuracy: 0.9970 - val_loss: 0.6249 - val_accuracy: 0.8875\n",
            "Epoch 123/200\n",
            "6/6 [==============================] - 0s 43ms/step - loss: 0.0030 - accuracy: 0.9985 - val_loss: 0.6111 - val_accuracy: 0.9000\n",
            "Epoch 124/200\n",
            "6/6 [==============================] - 0s 43ms/step - loss: 0.0029 - accuracy: 0.9985 - val_loss: 0.6097 - val_accuracy: 0.9000\n",
            "Epoch 125/200\n",
            "6/6 [==============================] - 0s 47ms/step - loss: 0.0028 - accuracy: 0.9985 - val_loss: 0.6143 - val_accuracy: 0.8875\n",
            "Epoch 126/200\n",
            "6/6 [==============================] - 0s 43ms/step - loss: 0.0030 - accuracy: 0.9970 - val_loss: 0.6181 - val_accuracy: 0.8875\n",
            "Epoch 127/200\n",
            "6/6 [==============================] - 0s 55ms/step - loss: 0.0035 - accuracy: 0.9985 - val_loss: 0.6137 - val_accuracy: 0.9000\n",
            "Epoch 128/200\n",
            "6/6 [==============================] - 0s 45ms/step - loss: 0.0046 - accuracy: 0.9985 - val_loss: 0.6209 - val_accuracy: 0.8875\n",
            "Epoch 129/200\n",
            "6/6 [==============================] - 0s 58ms/step - loss: 0.0045 - accuracy: 0.9970 - val_loss: 0.6354 - val_accuracy: 0.8875\n",
            "Epoch 130/200\n",
            "6/6 [==============================] - 0s 52ms/step - loss: 0.0035 - accuracy: 0.9985 - val_loss: 0.6343 - val_accuracy: 0.8875\n",
            "Epoch 131/200\n",
            "6/6 [==============================] - 0s 47ms/step - loss: 0.0026 - accuracy: 0.9985 - val_loss: 0.6237 - val_accuracy: 0.9000\n",
            "Epoch 132/200\n",
            "6/6 [==============================] - 0s 41ms/step - loss: 0.0025 - accuracy: 0.9985 - val_loss: 0.6166 - val_accuracy: 0.9000\n",
            "Epoch 133/200\n",
            "6/6 [==============================] - 0s 40ms/step - loss: 0.0068 - accuracy: 0.9985 - val_loss: 0.6199 - val_accuracy: 0.9000\n",
            "Epoch 134/200\n",
            "6/6 [==============================] - 0s 44ms/step - loss: 0.0046 - accuracy: 0.9985 - val_loss: 0.6341 - val_accuracy: 0.8875\n",
            "Epoch 135/200\n",
            "6/6 [==============================] - 0s 47ms/step - loss: 0.0031 - accuracy: 0.9970 - val_loss: 0.6513 - val_accuracy: 0.8750\n",
            "Epoch 136/200\n",
            "6/6 [==============================] - 0s 51ms/step - loss: 0.0033 - accuracy: 0.9985 - val_loss: 0.6449 - val_accuracy: 0.8750\n",
            "Epoch 137/200\n",
            "6/6 [==============================] - 0s 54ms/step - loss: 0.0032 - accuracy: 0.9985 - val_loss: 0.6288 - val_accuracy: 0.9000\n",
            "Epoch 138/200\n",
            "6/6 [==============================] - 0s 58ms/step - loss: 0.0028 - accuracy: 0.9985 - val_loss: 0.6262 - val_accuracy: 0.9000\n",
            "Epoch 139/200\n",
            "6/6 [==============================] - 0s 58ms/step - loss: 0.0030 - accuracy: 0.9985 - val_loss: 0.6292 - val_accuracy: 0.9000\n",
            "Epoch 140/200\n",
            "6/6 [==============================] - 0s 52ms/step - loss: 0.0025 - accuracy: 0.9985 - val_loss: 0.6395 - val_accuracy: 0.8875\n",
            "Epoch 141/200\n",
            "6/6 [==============================] - 0s 65ms/step - loss: 0.0030 - accuracy: 0.9985 - val_loss: 0.6440 - val_accuracy: 0.8875\n",
            "Epoch 142/200\n",
            "6/6 [==============================] - 0s 56ms/step - loss: 0.0039 - accuracy: 0.9985 - val_loss: 0.6551 - val_accuracy: 0.8750\n",
            "Epoch 143/200\n",
            "6/6 [==============================] - 0s 43ms/step - loss: 0.0049 - accuracy: 0.9985 - val_loss: 0.6497 - val_accuracy: 0.8750\n",
            "Epoch 144/200\n",
            "6/6 [==============================] - 0s 41ms/step - loss: 0.0037 - accuracy: 0.9985 - val_loss: 0.6403 - val_accuracy: 0.8875\n",
            "Epoch 145/200\n",
            "6/6 [==============================] - 0s 39ms/step - loss: 0.0025 - accuracy: 0.9970 - val_loss: 0.6380 - val_accuracy: 0.9000\n",
            "Epoch 146/200\n",
            "6/6 [==============================] - 0s 43ms/step - loss: 0.0026 - accuracy: 0.9985 - val_loss: 0.6393 - val_accuracy: 0.9000\n",
            "Epoch 147/200\n",
            "6/6 [==============================] - 0s 42ms/step - loss: 0.0024 - accuracy: 0.9985 - val_loss: 0.6427 - val_accuracy: 0.8875\n",
            "Epoch 148/200\n",
            "6/6 [==============================] - 0s 57ms/step - loss: 0.0030 - accuracy: 0.9985 - val_loss: 0.6479 - val_accuracy: 0.8875\n",
            "Epoch 149/200\n",
            "6/6 [==============================] - 0s 58ms/step - loss: 0.0060 - accuracy: 0.9985 - val_loss: 0.6615 - val_accuracy: 0.8750\n",
            "Epoch 150/200\n",
            "6/6 [==============================] - 0s 70ms/step - loss: 0.0061 - accuracy: 0.9970 - val_loss: 0.6353 - val_accuracy: 0.9000\n",
            "Epoch 151/200\n",
            "6/6 [==============================] - 0s 65ms/step - loss: 0.0041 - accuracy: 0.9985 - val_loss: 0.6350 - val_accuracy: 0.9000\n",
            "Epoch 152/200\n",
            "6/6 [==============================] - 0s 66ms/step - loss: 0.0048 - accuracy: 0.9985 - val_loss: 0.6420 - val_accuracy: 0.8875\n",
            "Epoch 153/200\n",
            "6/6 [==============================] - 1s 118ms/step - loss: 0.0035 - accuracy: 0.9985 - val_loss: 0.6535 - val_accuracy: 0.8750\n",
            "Epoch 154/200\n",
            "6/6 [==============================] - 0s 65ms/step - loss: 0.0026 - accuracy: 0.9985 - val_loss: 0.6552 - val_accuracy: 0.8750\n",
            "Epoch 155/200\n",
            "6/6 [==============================] - 0s 74ms/step - loss: 0.0029 - accuracy: 0.9985 - val_loss: 0.6511 - val_accuracy: 0.8875\n",
            "Epoch 156/200\n",
            "6/6 [==============================] - 0s 70ms/step - loss: 0.0030 - accuracy: 0.9970 - val_loss: 0.6477 - val_accuracy: 0.8875\n",
            "Epoch 157/200\n",
            "6/6 [==============================] - 0s 53ms/step - loss: 0.0026 - accuracy: 0.9985 - val_loss: 0.6494 - val_accuracy: 0.8875\n",
            "Epoch 158/200\n",
            "6/6 [==============================] - 0s 60ms/step - loss: 0.0025 - accuracy: 0.9985 - val_loss: 0.6530 - val_accuracy: 0.8875\n",
            "Epoch 159/200\n",
            "6/6 [==============================] - 0s 54ms/step - loss: 0.0028 - accuracy: 0.9970 - val_loss: 0.6551 - val_accuracy: 0.8875\n",
            "Epoch 160/200\n",
            "6/6 [==============================] - 0s 50ms/step - loss: 0.0025 - accuracy: 0.9970 - val_loss: 0.6579 - val_accuracy: 0.8875\n",
            "Epoch 161/200\n",
            "6/6 [==============================] - 0s 51ms/step - loss: 0.0025 - accuracy: 0.9985 - val_loss: 0.6596 - val_accuracy: 0.8875\n",
            "Epoch 162/200\n",
            "6/6 [==============================] - 0s 46ms/step - loss: 0.0028 - accuracy: 0.9970 - val_loss: 0.6594 - val_accuracy: 0.8875\n",
            "Epoch 163/200\n",
            "6/6 [==============================] - 0s 51ms/step - loss: 0.0025 - accuracy: 0.9985 - val_loss: 0.6605 - val_accuracy: 0.8875\n",
            "Epoch 164/200\n",
            "6/6 [==============================] - 0s 42ms/step - loss: 0.0025 - accuracy: 0.9970 - val_loss: 0.6602 - val_accuracy: 0.8875\n",
            "Epoch 165/200\n",
            "6/6 [==============================] - 0s 41ms/step - loss: 0.0026 - accuracy: 0.9970 - val_loss: 0.6624 - val_accuracy: 0.8875\n",
            "Epoch 166/200\n",
            "6/6 [==============================] - 0s 52ms/step - loss: 0.0026 - accuracy: 0.9985 - val_loss: 0.6638 - val_accuracy: 0.8875\n",
            "Epoch 167/200\n",
            "6/6 [==============================] - 0s 42ms/step - loss: 0.0026 - accuracy: 0.9985 - val_loss: 0.6651 - val_accuracy: 0.8875\n",
            "Epoch 168/200\n",
            "6/6 [==============================] - 0s 40ms/step - loss: 0.0023 - accuracy: 0.9985 - val_loss: 0.6643 - val_accuracy: 0.8875\n",
            "Epoch 169/200\n",
            "6/6 [==============================] - 0s 37ms/step - loss: 0.0026 - accuracy: 0.9985 - val_loss: 0.6662 - val_accuracy: 0.8875\n",
            "Epoch 170/200\n",
            "6/6 [==============================] - 0s 38ms/step - loss: 0.0033 - accuracy: 0.9970 - val_loss: 0.6717 - val_accuracy: 0.8875\n",
            "Epoch 171/200\n",
            "6/6 [==============================] - 0s 44ms/step - loss: 0.0032 - accuracy: 0.9970 - val_loss: 0.6686 - val_accuracy: 0.8875\n",
            "Epoch 172/200\n",
            "6/6 [==============================] - 0s 37ms/step - loss: 0.0027 - accuracy: 0.9985 - val_loss: 0.6701 - val_accuracy: 0.8875\n",
            "Epoch 173/200\n",
            "6/6 [==============================] - 0s 36ms/step - loss: 0.0023 - accuracy: 0.9985 - val_loss: 0.6755 - val_accuracy: 0.8750\n",
            "Epoch 174/200\n",
            "6/6 [==============================] - 0s 41ms/step - loss: 0.0025 - accuracy: 0.9985 - val_loss: 0.6756 - val_accuracy: 0.8875\n",
            "Epoch 175/200\n",
            "6/6 [==============================] - 0s 34ms/step - loss: 0.0026 - accuracy: 0.9985 - val_loss: 0.6739 - val_accuracy: 0.8875\n",
            "Epoch 176/200\n",
            "6/6 [==============================] - 0s 34ms/step - loss: 0.0028 - accuracy: 0.9985 - val_loss: 0.6763 - val_accuracy: 0.8875\n",
            "Epoch 177/200\n",
            "6/6 [==============================] - 0s 34ms/step - loss: 0.0024 - accuracy: 0.9985 - val_loss: 0.6753 - val_accuracy: 0.8875\n",
            "Epoch 178/200\n",
            "6/6 [==============================] - 0s 32ms/step - loss: 0.0034 - accuracy: 0.9985 - val_loss: 0.6744 - val_accuracy: 0.8875\n",
            "Epoch 179/200\n",
            "6/6 [==============================] - 0s 34ms/step - loss: 0.0026 - accuracy: 0.9985 - val_loss: 0.6792 - val_accuracy: 0.8875\n",
            "Epoch 180/200\n",
            "6/6 [==============================] - 0s 38ms/step - loss: 0.0030 - accuracy: 0.9985 - val_loss: 0.6859 - val_accuracy: 0.8750\n",
            "Epoch 181/200\n",
            "6/6 [==============================] - 0s 36ms/step - loss: 0.0031 - accuracy: 0.9985 - val_loss: 0.6826 - val_accuracy: 0.8875\n",
            "Epoch 182/200\n",
            "6/6 [==============================] - 0s 38ms/step - loss: 0.0026 - accuracy: 0.9985 - val_loss: 0.6838 - val_accuracy: 0.8875\n",
            "Epoch 183/200\n",
            "6/6 [==============================] - 0s 35ms/step - loss: 0.0025 - accuracy: 0.9985 - val_loss: 0.6831 - val_accuracy: 0.8875\n",
            "Epoch 184/200\n",
            "6/6 [==============================] - 0s 47ms/step - loss: 0.0026 - accuracy: 0.9970 - val_loss: 0.6815 - val_accuracy: 0.8875\n",
            "Epoch 185/200\n",
            "6/6 [==============================] - 0s 42ms/step - loss: 0.0027 - accuracy: 0.9985 - val_loss: 0.6765 - val_accuracy: 0.9000\n",
            "Epoch 186/200\n",
            "6/6 [==============================] - 0s 38ms/step - loss: 0.0045 - accuracy: 0.9985 - val_loss: 0.6805 - val_accuracy: 0.8875\n",
            "Epoch 187/200\n",
            "6/6 [==============================] - 0s 41ms/step - loss: 0.0029 - accuracy: 0.9985 - val_loss: 0.6879 - val_accuracy: 0.8875\n",
            "Epoch 188/200\n",
            "6/6 [==============================] - 0s 40ms/step - loss: 0.0021 - accuracy: 0.9985 - val_loss: 0.6954 - val_accuracy: 0.8750\n",
            "Epoch 189/200\n",
            "6/6 [==============================] - 0s 36ms/step - loss: 0.0030 - accuracy: 0.9985 - val_loss: 0.6945 - val_accuracy: 0.8750\n",
            "Epoch 190/200\n",
            "6/6 [==============================] - 0s 36ms/step - loss: 0.0030 - accuracy: 0.9985 - val_loss: 0.6890 - val_accuracy: 0.8875\n",
            "Epoch 191/200\n",
            "6/6 [==============================] - 0s 40ms/step - loss: 0.0025 - accuracy: 0.9985 - val_loss: 0.6747 - val_accuracy: 0.9000\n",
            "Epoch 192/200\n",
            "6/6 [==============================] - 0s 44ms/step - loss: 0.0070 - accuracy: 0.9985 - val_loss: 0.6761 - val_accuracy: 0.9000\n",
            "Epoch 193/200\n",
            "6/6 [==============================] - 0s 39ms/step - loss: 0.0067 - accuracy: 0.9985 - val_loss: 0.6853 - val_accuracy: 0.8875\n",
            "Epoch 194/200\n",
            "6/6 [==============================] - 0s 36ms/step - loss: 0.0030 - accuracy: 0.9985 - val_loss: 0.6939 - val_accuracy: 0.8750\n",
            "Epoch 195/200\n",
            "6/6 [==============================] - 0s 39ms/step - loss: 0.0023 - accuracy: 0.9985 - val_loss: 0.7009 - val_accuracy: 0.8750\n",
            "Epoch 196/200\n",
            "6/6 [==============================] - 0s 37ms/step - loss: 0.0040 - accuracy: 0.9985 - val_loss: 0.6987 - val_accuracy: 0.8750\n",
            "Epoch 197/200\n",
            "6/6 [==============================] - 0s 37ms/step - loss: 0.0034 - accuracy: 0.9985 - val_loss: 0.6880 - val_accuracy: 0.8750\n",
            "Epoch 198/200\n",
            "6/6 [==============================] - 0s 41ms/step - loss: 0.0024 - accuracy: 0.9985 - val_loss: 0.6842 - val_accuracy: 0.8875\n",
            "Epoch 199/200\n",
            "6/6 [==============================] - 0s 42ms/step - loss: 0.0028 - accuracy: 0.9970 - val_loss: 0.6856 - val_accuracy: 0.8875\n",
            "Epoch 200/200\n",
            "6/6 [==============================] - 0s 42ms/step - loss: 0.0023 - accuracy: 0.9985 - val_loss: 0.6869 - val_accuracy: 0.8875\n"
          ]
        }
      ],
      "source": [
        "NUM_EPOCHS = 200\n",
        "BATCH_SIZE = 128\n",
        "\n",
        "# Train the model\n",
        "history_ann = model_ann.fit(padded, training_labels_final, batch_size=BATCH_SIZE, epochs=NUM_EPOCHS, validation_data=(testing_padded, testing_labels_final))"
      ]
    },
    {
      "cell_type": "code",
      "execution_count": 11,
      "metadata": {
        "id": "smv78QCcnOIc"
      },
      "outputs": [
        {
          "data": {
            "image/png": "[encoded data removed]",
            "text/plain": [
              "<Figure size 432x288 with 1 Axes>"
            ]
          },
          "metadata": {
            "needs_background": "light"
          },
          "output_type": "display_data"
        },
        {
          "data": {
            "image/png": "[encoded data removed]",
            "text/plain": [
              "<Figure size 432x288 with 1 Axes>"
            ]
          },
          "metadata": {
            "needs_background": "light"
          },
          "output_type": "display_data"
        }
      ],
      "source": [
        "# Plot the accuracy and loss history\n",
        "plot_graphs(history_ann, 'accuracy')\n",
        "plot_graphs(history_ann, 'loss')"
      ]
    },
    {
      "cell_type": "code",
      "execution_count": 12,
      "metadata": {
        "id": "FpWh7ZeAsbL6"
      },
      "outputs": [
        {
          "name": "stdout",
          "output_type": "stream",
          "text": [
            "3/3 - 0s - loss: 0.6869 - accuracy: 0.8875 - 147ms/epoch - 49ms/step\n"
          ]
        },
        {
          "data": {
            "text/plain": [
              "[0.686886727809906, 0.887499988079071]"
            ]
          },
          "execution_count": 12,
          "metadata": {},
          "output_type": "execute_result"
        }
      ],
      "source": [
        "model_ann.evaluate(x=testing_padded, y=testing_labels_final, verbose=2)"
      ]
    },
    {
      "cell_type": "code",
      "execution_count": 13,
      "metadata": {
        "id": "RnMElKCxp4on"
      },
      "outputs": [],
      "source": [
        "# input_sentence = ['kamar mandi kotor', 'tempat nyaman bersih']\n",
        "input_sentence = sentences[:40]\n",
        "# Generate and pad the training sequences\n",
        "sequences_input = tokenizer.texts_to_sequences(input_sentence)\n",
        "padded_input = pad_sequences(sequences_input,maxlen=max_length, truncating=trunc_type)"
      ]
    },
    {
      "cell_type": "code",
      "execution_count": 14,
      "metadata": {
        "id": "35zFswK-rivs"
      },
      "outputs": [
        {
          "name": "stdout",
          "output_type": "stream",
          "text": [
            "2/2 [==============================] - 1s 15ms/step\n"
          ]
        }
      ],
      "source": [
        "predicted = model_ann.predict(padded_input)\n",
        "# print(predicted)\n",
        "rounded = [np.round(x) for x in predicted]"
      ]
    },
    {
      "cell_type": "code",
      "execution_count": 15,
      "metadata": {},
      "outputs": [],
      "source": [
        "label_predicted = []\n",
        "for i in rounded:\n",
        "    label_predicted.append(int(i))"
      ]
    },
    {
      "cell_type": "code",
      "execution_count": 16,
      "metadata": {},
      "outputs": [],
      "source": [
        "actual_labels = labels[:40]"
      ]
    },
    {
      "cell_type": "code",
      "execution_count": 17,
      "metadata": {},
      "outputs": [
        {
          "name": "stdout",
          "output_type": "stream",
          "text": [
            "                  precision    recall  f1-score   support\n",
            "\n",
            "Sentimen Positif       0.82      0.86      0.84        21\n",
            "Sentimen Negatif       0.83      0.79      0.81        19\n",
            "\n",
            "        accuracy                           0.82        40\n",
            "       macro avg       0.83      0.82      0.82        40\n",
            "    weighted avg       0.83      0.82      0.82        40\n",
            "\n"
          ]
        },
        {
          "data": {
            "text/plain": [
              "<AxesSubplot:>"
            ]
          },
          "execution_count": 17,
          "metadata": {},
          "output_type": "execute_result"
        },
        {
          "data": {
            "image/png": "[encoded data removed]",
            "text/plain": [
              "<Figure size 432x288 with 2 Axes>"
            ]
          },
          "metadata": {
            "needs_background": "light"
          },
          "output_type": "display_data"
        }
      ],
      "source": [
        "from sklearn.metrics import classification_report,confusion_matrix \n",
        "print(classification_report(actual_labels, label_predicted, target_names = ['Sentimen Positif','Sentimen Negatif']))\n",
        "visualize_cm = metrics.confusion_matrix(actual_labels, label_predicted)\n",
        "sns.heatmap(visualize_cm, annot=True)"
      ]
    }
  ],
  "metadata": {
    "accelerator": "GPU",
    "colab": {
      "collapsed_sections": [],
      "name": "ANN skripsi",
      "private_outputs": true,
      "provenance": []
    },
    "gpuClass": "standard",
    "kernelspec": {
      "display_name": "Python 3.8.13 ('skripsi')",
      "language": "python",
      "name": "python3"
    },
    "language_info": {
      "codemirror_mode": {
        "name": "ipython",
        "version": 3
      },
      "file_extension": ".py",
      "mimetype": "text/x-python",
      "name": "python",
      "nbconvert_exporter": "python",
      "pygments_lexer": "ipython3",
      "version": "3.8.13"
    },
    "vscode": {
      "interpreter": {
        "hash": "4842aaf1895e489c87fcc609f8d50c6f9d2e12c544b6fb95ced8cd49b8154563"
      }
    }
  },
  "nbformat": 4,
  "nbformat_minor": 0
}
